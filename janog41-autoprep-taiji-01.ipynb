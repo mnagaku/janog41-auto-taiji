{
 "cells": [
  {
   "cell_type": "markdown",
   "metadata": {
    "lc_cell_meme": {
     "current": "59a617ce-f12b-11e7-94e3-02420aff0004",
     "history": [
      {
       "current": "59a617ce-f12b-11e7-94e3-02420aff0004",
       "next": "853090dc-f120-11e7-94e3-02420aff0004",
       "previous": null
      },
      {
       "current": "59a617ce-f12b-11e7-94e3-02420aff0004",
       "next": "a12c80ce-f12b-11e7-94e3-02420aff0004",
       "previous": null
      }
     ],
     "next": "06cce2ba-f12d-11e7-94e3-02420aff0004",
     "previous": null
    }
   },
   "source": [
    "# 明日からはじめるネットワーク運用自動化　始動編\n",
    "\n",
    "（事前オンラインプログラム）\n",
    "\n",
    "以下、 https://www.janog.gr.jp/meeting/janog41/program/autoprep から転載\n",
    "\n",
    "## 概要\n",
    "\n",
    "JANOG41にて「[明日からはじめるネットワーク運用自動化](https://www.janog.gr.jp/meeting/janog41/program/auto)」が発表されます。\n",
    "\n",
    "この本会議のプログラムでは、発表時間の都合上プログラミングの基本部分(具体的な書式や実装例など)については発表内容を省略させていただく予定でしたが、\n",
    "「プログラミング基本部分も含めて話を聞きたい」\n",
    "「(プログラミング未経験ながらも) 自動化業務に取り組めるようになりたい」といった意見をいただきまして、\n",
    "別途JANOG41とは異なる日程で、オンライン形式のプログラムを開催させて頂く形といたしました。\n",
    "\n",
    "業務時間帯での開催となってしまいますが、これから新たにネットワーク自動化開発のスキルセットを獲得したい方にとっては絶好の機会かと思いますので、ぜひご参加いただければと思います。\n",
    "\n",
    "### 発表内容\n",
    "* 本発表のねらい\n",
    "* ネットワーク運用自動化の例\n",
    "* ネットワーク運用自動化 失敗パターン\n",
    "* なぜPython?\n",
    "* Python 2系 vs 3系\n",
    "* print: 標準出力\n",
    "* 変数\n",
    " * 数値型\n",
    " * 文字列型\n",
    " * リスト型\n",
    " * 辞書型\n",
    "* if: 条件分岐処理\n",
    "* for: 繰り返し処理\n",
    "* 関数\n",
    "* クラス\n",
    "* ファイル入出力\n",
    "* テスト\n",
    "* ライブラリの利用\n",
    "* JSONの利用\n",
    "* テンプレートエンジンの利用\n",
    "* 正規表現の利用\n",
    "* 開発Tips\n",
    "* まとめ\n",
    "\n",
    "## 場所/日時\n",
    "\n",
    "開催場所：オンラインMeeting(WebEx)  \n",
    "[こちらをクリックするとWebExが起動いたします](https://cisco.webex.com/ciscosales-jp/j.php?MTID=m6806d17c320cb3904c40bd6353e15f40)  \n",
    "ミーティング番号 (アクセスコード): 208 879 804   \n",
    "ミーティングパスワード: ZaKHfNd3 (92543633 電話から参加の場合)\n",
    "\n",
    "日時：2018年1月9日(火) 10:00～12:00\n",
    "\n",
    "## 発表者\n",
    "土屋 太二 (ITOCHU Techno-Solutions America, Inc. / NetOpsCoding運営委員)\n",
    "\n",
    "## 資料\n",
    "[明⽇からはじめる ネットワーク運⽤⾃動化 始動編 (土屋)](https://www.janog.gr.jp/meeting/janog41/application/files/8115/1496/7531/janog41-autoprep-taiji-01.pdf)"
   ]
  },
  {
   "cell_type": "markdown",
   "metadata": {
    "lc_cell_meme": {
     "current": "06cce2ba-f12d-11e7-94e3-02420aff0004",
     "history": [
      {
       "current": "06cce2ba-f12d-11e7-94e3-02420aff0004",
       "next": "853090dc-f120-11e7-94e3-02420aff0004",
       "previous": "a12c80ce-f12b-11e7-94e3-02420aff0004"
      },
      {
       "current": "06cce2ba-f12d-11e7-94e3-02420aff0004",
       "next": "c5280b9e-f20a-11e7-90bd-0242ac130002",
       "previous": "a12c80ce-f12b-11e7-94e3-02420aff0004"
      }
     ],
     "next": "c5280b9e-f20a-11e7-90bd-0242ac130002",
     "previous": "59a617ce-f12b-11e7-94e3-02420aff0004"
    }
   },
   "source": [
    "# 本Notebookについて\n",
    "\n",
    "NIIクラウド運用チームの[成果物](https://github.com/NII-cloud-operation)を組み込んで、mnagakuがデモ用に作成したDockerコンテナイメージ[mnagaku/lc-minimal-notebook](https://hub.docker.com/r/mnagaku/lc-minimal-notebook/)を使う前提で作られています。このため、実行結果例がお手本として入ってたり、1度実行したセルが凍結されたりします。\n",
    "\n",
    "以下に、Jupyterの拡張部分について、操作に戸惑いそうな部分についてだけ、簡単に説明します。\n",
    "\n",
    "## 凍結/解凍\n",
    "\n",
    "画面上部に並ぶアイコンの、雪の結晶マークを押すと、選択されているコードセルの凍結状態を変更できます。凍結されたコードセルは、実行を指示してもスルーされます。1度実行したコードセルは凍結され、そのままでは再実行できなくなります。これはシステム運用において、同じ処理を再実行してシステムを壊すことが多いことから、導入された機能です。\n",
    "\n",
    "## お手本の確認\n",
    "\n",
    "各コードセルの実行結果部にはタブがあり、あらかじめ実行結果をお手本として入れてあります。「\\*」が今の実行結果、「Out\\[n\\]」がお手本で、お手本表示状態で、比較を表す左右の矢印のアイコンを押すと、今の実行結果とお手本のdiffを確認できます。"
   ]
  },
  {
   "cell_type": "markdown",
   "metadata": {
    "lc_cell_meme": {
     "current": "c5280b9e-f20a-11e7-90bd-0242ac130002",
     "next": "853090dc-f120-11e7-94e3-02420aff0004",
     "previous": "06cce2ba-f12d-11e7-94e3-02420aff0004"
    }
   },
   "source": [
    "# スライドP11「Pythonバージョンの調べ⽅」"
   ]
  },
  {
   "cell_type": "code",
   "execution_count": null,
   "metadata": {
    "lc_cell_meme": {
     "current": "853090dc-f120-11e7-94e3-02420aff0004",
     "history": [
      {
       "current": "853090dc-f120-11e7-94e3-02420aff0004",
       "next": "85309258-f120-11e7-94e3-02420aff0004",
       "previous": null
      },
      {
       "current": "853090dc-f120-11e7-94e3-02420aff0004",
       "next": "85309258-f120-11e7-94e3-02420aff0004",
       "previous": "59a617ce-f12b-11e7-94e3-02420aff0004"
      },
      {
       "current": "853090dc-f120-11e7-94e3-02420aff0004",
       "next": "85309258-f120-11e7-94e3-02420aff0004",
       "previous": "a12c80ce-f12b-11e7-94e3-02420aff0004"
      },
      {
       "current": "853090dc-f120-11e7-94e3-02420aff0004",
       "next": "85309258-f120-11e7-94e3-02420aff0004",
       "previous": "06cce2ba-f12d-11e7-94e3-02420aff0004"
      },
      {
       "current": "853090dc-f120-11e7-94e3-02420aff0004",
       "next": "85309258-f120-11e7-94e3-02420aff0004",
       "previous": "c5280b9e-f20a-11e7-90bd-0242ac130002"
      }
     ],
     "next": "0ca9e6ae-f20b-11e7-90bd-0242ac130002",
     "previous": "c5280b9e-f20a-11e7-90bd-0242ac130002"
    },
    "pinned_outputs": [
     {
      "execution_count": 1,
      "outputs": [
       {
        "name": "stdout",
        "output_type": "stream",
        "text": "Python 3.6.3\r\n"
       }
      ]
     }
    ]
   },
   "outputs": [],
   "source": [
    "!python --version"
   ]
  },
  {
   "cell_type": "markdown",
   "metadata": {
    "lc_cell_meme": {
     "current": "0ca9e6ae-f20b-11e7-90bd-0242ac130002",
     "next": "85309258-f120-11e7-94e3-02420aff0004",
     "previous": "853090dc-f120-11e7-94e3-02420aff0004"
    }
   },
   "source": [
    "# スライドP13「Pythonプログラムの作り⽅」\n",
    "\n",
    "この部分では、スライドの通り、Pythonのコードをソースファイルからインタプリタで実行しますが、以降のコード実行は、基本的に、Jupyter上で直接実行するものとします。\n",
    "\n",
    "ソースコードを確認します。"
   ]
  },
  {
   "cell_type": "code",
   "execution_count": null,
   "metadata": {
    "lc_cell_meme": {
     "current": "85309258-f120-11e7-94e3-02420aff0004",
     "history": [
      {
       "current": "85309258-f120-11e7-94e3-02420aff0004",
       "next": "853093b6-f120-11e7-94e3-02420aff0004",
       "previous": "853090dc-f120-11e7-94e3-02420aff0004"
      },
      {
       "current": "85309258-f120-11e7-94e3-02420aff0004",
       "next": "1d7039b2-f129-11e7-94e3-02420aff0004",
       "previous": "853090dc-f120-11e7-94e3-02420aff0004"
      },
      {
       "current": "85309258-f120-11e7-94e3-02420aff0004",
       "next": "1d7039b2-f129-11e7-94e3-02420aff0004",
       "previous": "0ca9e6ae-f20b-11e7-90bd-0242ac130002"
      }
     ],
     "next": "5430ebd0-f20b-11e7-90bd-0242ac130002",
     "previous": "0ca9e6ae-f20b-11e7-90bd-0242ac130002"
    },
    "pinned_outputs": [
     {
      "execution_count": 2,
      "outputs": [
       {
        "name": "stdout",
        "output_type": "stream",
        "text": "num = 1\r\nif num == 1:\r\n    print(\"Hello JANOG!!!\")\r\n"
       }
      ]
     }
    ]
   },
   "outputs": [],
   "source": [
    "!cat sample.py"
   ]
  },
  {
   "cell_type": "markdown",
   "metadata": {
    "lc_cell_meme": {
     "current": "5430ebd0-f20b-11e7-90bd-0242ac130002",
     "next": "1d7039b2-f129-11e7-94e3-02420aff0004",
     "previous": "85309258-f120-11e7-94e3-02420aff0004"
    }
   },
   "source": [
    "Pythonコマンド（インタプリタ）で実行します。"
   ]
  },
  {
   "cell_type": "code",
   "execution_count": null,
   "metadata": {
    "lc_cell_meme": {
     "current": "1d7039b2-f129-11e7-94e3-02420aff0004",
     "history": [
      {
       "current": "1d7039b2-f129-11e7-94e3-02420aff0004",
       "next": "853093b6-f120-11e7-94e3-02420aff0004",
       "previous": "85309258-f120-11e7-94e3-02420aff0004"
      },
      {
       "current": "1d7039b2-f129-11e7-94e3-02420aff0004",
       "next": "853093b6-f120-11e7-94e3-02420aff0004",
       "previous": "5430ebd0-f20b-11e7-90bd-0242ac130002"
      }
     ],
     "next": "9bb750d4-f20b-11e7-90bd-0242ac130002",
     "previous": "5430ebd0-f20b-11e7-90bd-0242ac130002"
    },
    "pinned_outputs": [
     {
      "execution_count": 3,
      "outputs": [
       {
        "name": "stdout",
        "output_type": "stream",
        "text": "Hello JANOG!!!\r\n"
       }
      ]
     }
    ]
   },
   "outputs": [],
   "source": [
    "!python sample.py"
   ]
  },
  {
   "cell_type": "markdown",
   "metadata": {
    "lc_cell_meme": {
     "current": "9bb750d4-f20b-11e7-90bd-0242ac130002",
     "next": "853093b6-f120-11e7-94e3-02420aff0004",
     "previous": "1d7039b2-f129-11e7-94e3-02420aff0004"
    }
   },
   "source": [
    "# スライドP15「print : 標準出⼒」"
   ]
  },
  {
   "cell_type": "code",
   "execution_count": null,
   "metadata": {
    "lc_cell_meme": {
     "current": "853093b6-f120-11e7-94e3-02420aff0004",
     "history": [
      {
       "current": "853093b6-f120-11e7-94e3-02420aff0004",
       "next": null,
       "previous": "85309258-f120-11e7-94e3-02420aff0004"
      },
      {
       "current": "853093b6-f120-11e7-94e3-02420aff0004",
       "next": "ccb73136-f120-11e7-94e3-02420aff0004",
       "previous": "85309258-f120-11e7-94e3-02420aff0004"
      },
      {
       "current": "853093b6-f120-11e7-94e3-02420aff0004",
       "next": "ccb73136-f120-11e7-94e3-02420aff0004",
       "previous": "1d7039b2-f129-11e7-94e3-02420aff0004"
      }
     ],
     "next": "9bb752c8-f20b-11e7-90bd-0242ac130002",
     "previous": "9bb750d4-f20b-11e7-90bd-0242ac130002"
    },
    "pinned_outputs": [
     {
      "execution_count": 4,
      "outputs": [
       {
        "name": "stdout",
        "output_type": "stream",
        "text": "Hello World!\n"
       }
      ]
     }
    ]
   },
   "outputs": [],
   "source": [
    "print(\"Hello World!\")"
   ]
  },
  {
   "cell_type": "markdown",
   "metadata": {
    "lc_cell_meme": {
     "current": "9bb752c8-f20b-11e7-90bd-0242ac130002",
     "next": "ccb73136-f120-11e7-94e3-02420aff0004",
     "previous": "853093b6-f120-11e7-94e3-02420aff0004"
    }
   },
   "source": [
    "# スライドP16「変数（数値型）」"
   ]
  },
  {
   "cell_type": "code",
   "execution_count": null,
   "metadata": {
    "lc_cell_meme": {
     "current": "ccb73136-f120-11e7-94e3-02420aff0004",
     "history": [
      {
       "current": "ccb73136-f120-11e7-94e3-02420aff0004",
       "next": "ccb732b2-f120-11e7-94e3-02420aff0004",
       "previous": "853093b6-f120-11e7-94e3-02420aff0004"
      },
      {
       "current": "ccb73136-f120-11e7-94e3-02420aff0004",
       "next": "ccb732b2-f120-11e7-94e3-02420aff0004",
       "previous": "9bb752c8-f20b-11e7-90bd-0242ac130002"
      }
     ],
     "next": "e33d1362-f20b-11e7-90bd-0242ac130002",
     "previous": "9bb752c8-f20b-11e7-90bd-0242ac130002"
    },
    "pinned_outputs": [
     {
      "execution_count": 5,
      "outputs": [
       {
        "name": "stdout",
        "output_type": "stream",
        "text": "1\n1.1\n2.1\n"
       }
      ]
     }
    ]
   },
   "outputs": [],
   "source": [
    "a = 1 # a: int型として⽣成\n",
    "b = 1.1 # b: float型として⽣成\n",
    "print(a)\n",
    "print(b)\n",
    "\n",
    "c = a + b # c: float型として⽣成\n",
    "print(c)"
   ]
  },
  {
   "cell_type": "markdown",
   "metadata": {
    "lc_cell_meme": {
     "current": "e33d1362-f20b-11e7-90bd-0242ac130002",
     "next": "ccb732b2-f120-11e7-94e3-02420aff0004",
     "previous": "ccb73136-f120-11e7-94e3-02420aff0004"
    }
   },
   "source": [
    "# スライドP17「変数（文字列型）」"
   ]
  },
  {
   "cell_type": "code",
   "execution_count": null,
   "metadata": {
    "lc_cell_meme": {
     "current": "ccb732b2-f120-11e7-94e3-02420aff0004",
     "history": [
      {
       "current": "ccb732b2-f120-11e7-94e3-02420aff0004",
       "next": "ccb73366-f120-11e7-94e3-02420aff0004",
       "previous": "ccb73136-f120-11e7-94e3-02420aff0004"
      }
     ],
     "next": "e33d145c-f20b-11e7-90bd-0242ac130002",
     "previous": "e33d1362-f20b-11e7-90bd-0242ac130002"
    },
    "pinned_outputs": [
     {
      "execution_count": 6,
      "outputs": [
       {
        "name": "stdout",
        "output_type": "stream",
        "text": "text\nテキスト\n"
       }
      ]
     }
    ]
   },
   "outputs": [],
   "source": [
    "c = \"text\" # 「‘」「“」のどちらでも可。特別な違いはなし。\n",
    "d = \"テキスト\"\n",
    "#⽇本語⽂字列について\n",
    "#Python3ではデフォルトでUnicode⽂字列として扱われる。\n",
    "#Python2ではデフォルトはASCIIであるため「u\"テキスト\"」と明⽰する必要あり。\n",
    "\n",
    "print(c)\n",
    "print(d)"
   ]
  },
  {
   "cell_type": "markdown",
   "metadata": {
    "lc_cell_meme": {
     "current": "e33d145c-f20b-11e7-90bd-0242ac130002",
     "next": "ccb73366-f120-11e7-94e3-02420aff0004",
     "previous": "ccb732b2-f120-11e7-94e3-02420aff0004"
    }
   },
   "source": [
    "# スライドP18「変数（リスト型）」"
   ]
  },
  {
   "cell_type": "code",
   "execution_count": null,
   "metadata": {
    "lc_cell_meme": {
     "current": "ccb73366-f120-11e7-94e3-02420aff0004",
     "history": [
      {
       "current": "ccb73366-f120-11e7-94e3-02420aff0004",
       "next": "ccb733fc-f120-11e7-94e3-02420aff0004",
       "previous": "ccb732b2-f120-11e7-94e3-02420aff0004"
      },
      {
       "current": "ccb73366-f120-11e7-94e3-02420aff0004",
       "next": "ccb733fc-f120-11e7-94e3-02420aff0004",
       "previous": "e33d145c-f20b-11e7-90bd-0242ac130002"
      }
     ],
     "next": "2ac3cf3c-f20c-11e7-90bd-0242ac130002",
     "previous": "e33d145c-f20b-11e7-90bd-0242ac130002"
    },
    "pinned_outputs": [
     {
      "execution_count": 7,
      "outputs": [
       {
        "name": "stdout",
        "output_type": "stream",
        "text": "['router_A', 'router_B', 'router_C']\nrouter_B\n3\n"
       }
      ]
     }
    ]
   },
   "outputs": [],
   "source": [
    "router_list = [\"router_A\", \"router_B\", \"router_C\"]\n",
    "\n",
    "# リスト型変数を出⼒\n",
    "print(router_list)\n",
    "\n",
    "# 0から数えて、1番⽬の値を出⼒\n",
    "print(router_list[1])\n",
    "\n",
    "# 配列の⻑さを取得(len)\n",
    "print(len(router_list))"
   ]
  },
  {
   "cell_type": "markdown",
   "metadata": {
    "lc_cell_meme": {
     "current": "2ac3cf3c-f20c-11e7-90bd-0242ac130002",
     "next": "ccb733fc-f120-11e7-94e3-02420aff0004",
     "previous": "ccb73366-f120-11e7-94e3-02420aff0004"
    }
   },
   "source": [
    "# スライドP19「変数（辞書型）」"
   ]
  },
  {
   "cell_type": "code",
   "execution_count": null,
   "metadata": {
    "lc_cell_meme": {
     "current": "ccb733fc-f120-11e7-94e3-02420aff0004",
     "history": [
      {
       "current": "ccb733fc-f120-11e7-94e3-02420aff0004",
       "next": null,
       "previous": "ccb73366-f120-11e7-94e3-02420aff0004"
      },
      {
       "current": "ccb733fc-f120-11e7-94e3-02420aff0004",
       "next": "14627d74-f121-11e7-94e3-02420aff0004",
       "previous": "ccb73366-f120-11e7-94e3-02420aff0004"
      }
     ],
     "next": "2ac3d040-f20c-11e7-90bd-0242ac130002",
     "previous": "2ac3cf3c-f20c-11e7-90bd-0242ac130002"
    },
    "pinned_outputs": [
     {
      "execution_count": 8,
      "outputs": [
       {
        "name": "stdout",
        "output_type": "stream",
        "text": "{'hostname': 'router_A', 'os': 'junos'}\nrouter_A\n"
       }
      ]
     }
    ]
   },
   "outputs": [],
   "source": [
    "# 「key : value」のペアを変数として定義\n",
    "routerA_info = {\n",
    "\"hostname\" : \"router_A\",\n",
    "\"os\" : \"junos\"\n",
    "}\n",
    "\n",
    "print(routerA_info) # 辞書型変数を表示\n",
    "\n",
    "# 「key = “hostname”」の場合の、「value」を表示\n",
    "print(routerA_info[\"hostname\"]) "
   ]
  },
  {
   "cell_type": "markdown",
   "metadata": {
    "lc_cell_meme": {
     "current": "2ac3d040-f20c-11e7-90bd-0242ac130002",
     "next": "14627d74-f121-11e7-94e3-02420aff0004",
     "previous": "ccb733fc-f120-11e7-94e3-02420aff0004"
    }
   },
   "source": [
    "# スライドP20「if : 条件分岐」"
   ]
  },
  {
   "cell_type": "code",
   "execution_count": null,
   "metadata": {
    "lc_cell_meme": {
     "current": "14627d74-f121-11e7-94e3-02420aff0004",
     "history": [
      {
       "current": "14627d74-f121-11e7-94e3-02420aff0004",
       "next": null,
       "previous": "ccb733fc-f120-11e7-94e3-02420aff0004"
      },
      {
       "current": "14627d74-f121-11e7-94e3-02420aff0004",
       "next": "eae90066-f121-11e7-94e3-02420aff0004",
       "previous": "ccb733fc-f120-11e7-94e3-02420aff0004"
      },
      {
       "current": "14627d74-f121-11e7-94e3-02420aff0004",
       "next": "eae90066-f121-11e7-94e3-02420aff0004",
       "previous": "2ac3d040-f20c-11e7-90bd-0242ac130002"
      }
     ],
     "next": "724b6324-f20c-11e7-90bd-0242ac130002",
     "previous": "2ac3d040-f20c-11e7-90bd-0242ac130002"
    },
    "pinned_outputs": [
     {
      "execution_count": 9,
      "outputs": [
       {
        "name": "stdout",
        "output_type": "stream",
        "text": "num is two\n"
       }
      ]
     }
    ]
   },
   "outputs": [],
   "source": [
    "num = 2\n",
    "\n",
    "if num == 1:\n",
    "    print(\"num is one\")\n",
    "elif num == 2:\n",
    "    print(\"num is two\")\n",
    "else:\n",
    "    print(\"num is the others\")"
   ]
  },
  {
   "cell_type": "markdown",
   "metadata": {
    "lc_cell_meme": {
     "current": "724b6324-f20c-11e7-90bd-0242ac130002",
     "next": "eae90066-f121-11e7-94e3-02420aff0004",
     "previous": "14627d74-f121-11e7-94e3-02420aff0004"
    }
   },
   "source": [
    "# スライドP21「for : 繰り返し処理」"
   ]
  },
  {
   "cell_type": "code",
   "execution_count": null,
   "metadata": {
    "lc_cell_meme": {
     "current": "eae90066-f121-11e7-94e3-02420aff0004",
     "history": [
      {
       "current": "eae90066-f121-11e7-94e3-02420aff0004",
       "next": "eae902a0-f121-11e7-94e3-02420aff0004",
       "previous": "14627d74-f121-11e7-94e3-02420aff0004"
      }
     ],
     "next": "eae902a0-f121-11e7-94e3-02420aff0004",
     "previous": "724b6324-f20c-11e7-90bd-0242ac130002"
    },
    "pinned_outputs": [
     {
      "execution_count": 10,
      "outputs": [
       {
        "name": "stdout",
        "output_type": "stream",
        "text": "router_A\nrouter_B\n"
       }
      ]
     }
    ]
   },
   "outputs": [],
   "source": [
    "# リスト型変数を利⽤して繰り返し処理を実施\n",
    "router_list = [\"router_A\", \"router_B\"]\n",
    "\n",
    "# router_listの値を、順次 router_name に代入\n",
    "for router_name in router_list:\n",
    "    print(router_name)"
   ]
  },
  {
   "cell_type": "code",
   "execution_count": null,
   "metadata": {
    "lc_cell_meme": {
     "current": "eae902a0-f121-11e7-94e3-02420aff0004",
     "history": [
      {
       "current": "eae902a0-f121-11e7-94e3-02420aff0004",
       "next": "eae903cc-f121-11e7-94e3-02420aff0004",
       "previous": "eae90066-f121-11e7-94e3-02420aff0004"
      }
     ],
     "next": "724b6478-f20c-11e7-90bd-0242ac130002",
     "previous": "eae90066-f121-11e7-94e3-02420aff0004"
    },
    "pinned_outputs": [
     {
      "execution_count": 11,
      "outputs": [
       {
        "name": "stdout",
        "output_type": "stream",
        "text": "0\n1\n2\n"
       }
      ]
     }
    ]
   },
   "outputs": [],
   "source": [
    "# 回数を指定して繰り返し処理を実施\n",
    "# range(3) = 0,1,2が格納\n",
    "for num in range(3):\n",
    "    print(num)"
   ]
  },
  {
   "cell_type": "markdown",
   "metadata": {
    "lc_cell_meme": {
     "current": "724b6478-f20c-11e7-90bd-0242ac130002",
     "next": "eae903cc-f121-11e7-94e3-02420aff0004",
     "previous": "eae902a0-f121-11e7-94e3-02420aff0004"
    }
   },
   "source": [
    "# スライドP22「ファイル入出力」\n",
    "\n",
    "既に作成済みの[sample_read.txt](sample_read.txt)を読み込みます。"
   ]
  },
  {
   "cell_type": "code",
   "execution_count": null,
   "metadata": {
    "lc_cell_meme": {
     "current": "eae903cc-f121-11e7-94e3-02420aff0004",
     "history": [
      {
       "current": "eae903cc-f121-11e7-94e3-02420aff0004",
       "next": null,
       "previous": "eae902a0-f121-11e7-94e3-02420aff0004"
      },
      {
       "current": "eae903cc-f121-11e7-94e3-02420aff0004",
       "next": "522d0714-f126-11e7-94e3-02420aff0004",
       "previous": "eae902a0-f121-11e7-94e3-02420aff0004"
      },
      {
       "current": "eae903cc-f121-11e7-94e3-02420aff0004",
       "next": "522d0714-f126-11e7-94e3-02420aff0004",
       "previous": "724b6478-f20c-11e7-90bd-0242ac130002"
      }
     ],
     "next": "01578e8a-f20d-11e7-90bd-0242ac130002",
     "previous": "724b6478-f20c-11e7-90bd-0242ac130002"
    },
    "pinned_outputs": [
     {
      "execution_count": 12,
      "outputs": [
       {
        "name": "stdout",
        "output_type": "stream",
        "text": "Hello JANOG! from sample_read.txt\nHow are you feeling?\n\n"
       }
      ]
     }
    ]
   },
   "outputs": [],
   "source": [
    "# 読み込みモード:\"r\"\n",
    "file1 = open(\"sample_read.txt\", \"r\")\n",
    "text = file1.read() # ファイル全⽂を⽂字列として読み込み\n",
    "#text = file1.readline() # ファイル1⾏⽬のみを⽂字列として読み込み\n",
    "#text = file1.readlines() # ファイルを⾏ごとに配列として読み込み\n",
    "print(text)\n",
    "file1.close()"
   ]
  },
  {
   "cell_type": "markdown",
   "metadata": {
    "lc_cell_meme": {
     "current": "01578e8a-f20d-11e7-90bd-0242ac130002",
     "next": "522d0714-f126-11e7-94e3-02420aff0004",
     "previous": "eae903cc-f121-11e7-94e3-02420aff0004"
    }
   },
   "source": [
    "ファイルを書き込みます。"
   ]
  },
  {
   "cell_type": "code",
   "execution_count": null,
   "metadata": {
    "lc_cell_meme": {
     "current": "522d0714-f126-11e7-94e3-02420aff0004",
     "history": [
      {
       "current": "522d0714-f126-11e7-94e3-02420aff0004",
       "next": "522d08b8-f126-11e7-94e3-02420aff0004",
       "previous": "eae903cc-f121-11e7-94e3-02420aff0004"
      }
     ],
     "next": "01578f98-f20d-11e7-90bd-0242ac130002",
     "previous": "01578e8a-f20d-11e7-90bd-0242ac130002"
    }
   },
   "outputs": [],
   "source": [
    "# 上書き書き込みモード:\"w\", 追記書き込みモード:\"a\"\n",
    "file2 = open(\"sample_write.txt\", \"w\")\n",
    "file2.write(\"Good!\")\n",
    "file2.close()"
   ]
  },
  {
   "cell_type": "markdown",
   "metadata": {
    "lc_cell_meme": {
     "current": "01578f98-f20d-11e7-90bd-0242ac130002",
     "next": "522d08b8-f126-11e7-94e3-02420aff0004",
     "previous": "522d0714-f126-11e7-94e3-02420aff0004"
    }
   },
   "source": [
    "書き込んだ内容を確認します。"
   ]
  },
  {
   "cell_type": "code",
   "execution_count": null,
   "metadata": {
    "lc_cell_meme": {
     "current": "522d08b8-f126-11e7-94e3-02420aff0004",
     "history": [
      {
       "current": "522d08b8-f126-11e7-94e3-02420aff0004",
       "next": "522d09b2-f126-11e7-94e3-02420aff0004",
       "previous": "522d0714-f126-11e7-94e3-02420aff0004"
      }
     ],
     "next": "01579024-f20d-11e7-90bd-0242ac130002",
     "previous": "01578f98-f20d-11e7-90bd-0242ac130002"
    },
    "pinned_outputs": [
     {
      "execution_count": 14,
      "outputs": [
       {
        "name": "stdout",
        "output_type": "stream",
        "text": "Good!"
       }
      ]
     }
    ]
   },
   "outputs": [],
   "source": [
    "!cat sample_write.txt"
   ]
  },
  {
   "cell_type": "markdown",
   "metadata": {
    "lc_cell_meme": {
     "current": "01579024-f20d-11e7-90bd-0242ac130002",
     "next": "522d09b2-f126-11e7-94e3-02420aff0004",
     "previous": "522d08b8-f126-11e7-94e3-02420aff0004"
    }
   },
   "source": [
    "# スライドP23「関数」"
   ]
  },
  {
   "cell_type": "code",
   "execution_count": null,
   "metadata": {
    "lc_cell_meme": {
     "current": "522d09b2-f126-11e7-94e3-02420aff0004",
     "history": [
      {
       "current": "522d09b2-f126-11e7-94e3-02420aff0004",
       "next": null,
       "previous": "522d08b8-f126-11e7-94e3-02420aff0004"
      },
      {
       "current": "522d09b2-f126-11e7-94e3-02420aff0004",
       "next": "99b3ed82-f126-11e7-94e3-02420aff0004",
       "previous": "522d08b8-f126-11e7-94e3-02420aff0004"
      },
      {
       "current": "522d09b2-f126-11e7-94e3-02420aff0004",
       "next": "99b3ed82-f126-11e7-94e3-02420aff0004",
       "previous": "01579024-f20d-11e7-90bd-0242ac130002"
      }
     ],
     "next": "48de2020-f20d-11e7-90bd-0242ac130002",
     "previous": "01579024-f20d-11e7-90bd-0242ac130002"
    },
    "pinned_outputs": [
     {
      "execution_count": 15,
      "outputs": [
       {
        "name": "stdout",
        "output_type": "stream",
        "text": "router_A\nrouter_B\n"
       }
      ]
     }
    ]
   },
   "outputs": [],
   "source": [
    "# 関数の定義\n",
    "# ルータ名のリストを受けとり、表⽰させる関数\n",
    "def test_function(router_list):\n",
    "    for router_name in router_list:\n",
    "        print(router_name)\n",
    "\n",
    "\n",
    "# リスト型変数を定義\n",
    "router_list = [\"router_A\", \"router_B\"]\n",
    "\n",
    "# 関数の呼び出し\n",
    "test_function(router_list)"
   ]
  },
  {
   "cell_type": "markdown",
   "metadata": {
    "lc_cell_meme": {
     "current": "48de2020-f20d-11e7-90bd-0242ac130002",
     "next": "99b3ed82-f126-11e7-94e3-02420aff0004",
     "previous": "522d09b2-f126-11e7-94e3-02420aff0004"
    }
   },
   "source": [
    "# スライドP24「クラス」"
   ]
  },
  {
   "cell_type": "code",
   "execution_count": null,
   "metadata": {
    "lc_cell_meme": {
     "current": "99b3ed82-f126-11e7-94e3-02420aff0004",
     "history": [
      {
       "current": "99b3ed82-f126-11e7-94e3-02420aff0004",
       "next": null,
       "previous": "522d09b2-f126-11e7-94e3-02420aff0004"
      },
      {
       "current": "99b3ed82-f126-11e7-94e3-02420aff0004",
       "next": "e13ab85c-f126-11e7-94e3-02420aff0004",
       "previous": "522d09b2-f126-11e7-94e3-02420aff0004"
      }
     ],
     "next": "48de217e-f20d-11e7-90bd-0242ac130002",
     "previous": "48de2020-f20d-11e7-90bd-0242ac130002"
    },
    "pinned_outputs": [
     {
      "execution_count": 16,
      "outputs": [
       {
        "name": "stdout",
        "output_type": "stream",
        "text": "Router A\n"
       }
      ]
     }
    ]
   },
   "outputs": [],
   "source": [
    "class Router:\n",
    "    # クラス変数(全インスタンス共通で設定される変数)\n",
    "    router = {\n",
    "        \"router_name\" : \"\",\n",
    "        \"ip\" : \"\",\n",
    "        \"os\" : \"\"\n",
    "    }\n",
    "\n",
    "    # クラス内の関数の定義。ルータ名の設定\n",
    "    def set_router_name(self, router_name):\n",
    "        self.router[\"router_name\"] = router_name\n",
    "\n",
    "    # クラス内の関数の定義。ルータ名の取得\n",
    "    def get_router_name(self):\n",
    "        return self.router[\"router_name\"]\n",
    "\n",
    "# Routerクラスのインスタンスを⽣成\n",
    "router_A = Router()\n",
    "\n",
    "# Routerクラスで定義された関数を呼び出し\n",
    "router_A.set_router_name(\"Router A\")\n",
    "router_name = router_A.get_router_name()\n",
    "\n",
    "print(router_name) # => 「Router A」が表⽰"
   ]
  },
  {
   "cell_type": "markdown",
   "metadata": {
    "lc_cell_meme": {
     "current": "48de217e-f20d-11e7-90bd-0242ac130002",
     "next": "e13ab85c-f126-11e7-94e3-02420aff0004",
     "previous": "99b3ed82-f126-11e7-94e3-02420aff0004"
    }
   },
   "source": [
    "# スライドP27「pipのバージョンの調べ方」"
   ]
  },
  {
   "cell_type": "code",
   "execution_count": null,
   "metadata": {
    "lc_cell_meme": {
     "current": "e13ab85c-f126-11e7-94e3-02420aff0004",
     "history": [
      {
       "current": "e13ab85c-f126-11e7-94e3-02420aff0004",
       "next": "e13abb7c-f126-11e7-94e3-02420aff0004",
       "previous": "99b3ed82-f126-11e7-94e3-02420aff0004"
      },
      {
       "current": "e13ab85c-f126-11e7-94e3-02420aff0004",
       "next": "e13abb7c-f126-11e7-94e3-02420aff0004",
       "previous": "48de217e-f20d-11e7-90bd-0242ac130002"
      }
     ],
     "next": "9065ff58-f20d-11e7-90bd-0242ac130002",
     "previous": "48de217e-f20d-11e7-90bd-0242ac130002"
    },
    "pinned_outputs": [
     {
      "execution_count": 17,
      "outputs": [
       {
        "name": "stdout",
        "output_type": "stream",
        "text": "pip 9.0.1 from /opt/conda/lib/python3.6/site-packages (python 3.6)\r\n"
       }
      ]
     }
    ]
   },
   "outputs": [],
   "source": [
    "!pip --version"
   ]
  },
  {
   "cell_type": "markdown",
   "metadata": {
    "lc_cell_meme": {
     "current": "9065ff58-f20d-11e7-90bd-0242ac130002",
     "next": "e13abb7c-f126-11e7-94e3-02420aff0004",
     "previous": "e13ab85c-f126-11e7-94e3-02420aff0004"
    }
   },
   "source": [
    "# スライドP28「pipコマンドの利用例」\n",
    "\n",
    "jinja2のインストール（しかし、この環境では、既にインストール済み。他にもいろいろインストール済み）"
   ]
  },
  {
   "cell_type": "code",
   "execution_count": null,
   "metadata": {
    "lc_cell_meme": {
     "current": "e13abb7c-f126-11e7-94e3-02420aff0004",
     "history": [
      {
       "current": "e13abb7c-f126-11e7-94e3-02420aff0004",
       "next": "e13abd3e-f126-11e7-94e3-02420aff0004",
       "previous": "e13ab85c-f126-11e7-94e3-02420aff0004"
      }
     ],
     "next": "e13abd3e-f126-11e7-94e3-02420aff0004",
     "previous": "9065ff58-f20d-11e7-90bd-0242ac130002"
    },
    "pinned_outputs": [
     {
      "execution_count": 18,
      "outputs": [
       {
        "name": "stdout",
        "output_type": "stream",
        "text": "Requirement already satisfied: jinja2 in /opt/conda/lib/python3.6/site-packages\r\nRequirement already satisfied: MarkupSafe>=0.23 in /opt/conda/lib/python3.6/site-packages (from jinja2)\r\n"
       }
      ]
     }
    ]
   },
   "outputs": [],
   "source": [
    "!pip install jinja2"
   ]
  },
  {
   "cell_type": "code",
   "execution_count": null,
   "metadata": {
    "lc_cell_meme": {
     "current": "e13abd3e-f126-11e7-94e3-02420aff0004",
     "history": [
      {
       "current": "e13abd3e-f126-11e7-94e3-02420aff0004",
       "next": "e13abde8-f126-11e7-94e3-02420aff0004",
       "previous": "e13abb7c-f126-11e7-94e3-02420aff0004"
      }
     ],
     "next": "d7eb5da0-f20d-11e7-90bd-0242ac130002",
     "previous": "e13abb7c-f126-11e7-94e3-02420aff0004"
    },
    "pinned_outputs": [
     {
      "execution_count": 19,
      "outputs": [
       {
        "name": "stdout",
        "output_type": "stream",
        "text": "\u001b[31mDEPRECATION: The default format will switch to columns in the future. You can use --format=(legacy|columns) (or define a format=(legacy|columns) in your pip.conf under the [list] section) to disable this warning.\u001b[0m\r\nalembic (0.9.6)\r\nansible (2.4.2.0)\r\nasn1crypto (0.22.0)\r\nbcrypt (3.1.4)\r\nbleach (2.0.0)\r\ncertifi (2017.7.27.1)\r\ncffi (1.10.0)\r\nchardet (3.0.4)\r\nconda (4.3.29)\r\ncryptography (2.0.3)\r\ndecorator (4.1.2)\r\nentrypoints (0.2.3)\r\nhtml5lib (0.999999999)\r\nidna (2.6)\r\nipykernel (4.6.1)\r\nipython (6.2.1)\r\nipython-genutils (0.2.0)\r\nipywidgets (7.0.5)\r\njedi (0.10.2)\r\nJinja2 (2.9.6)\r\njsonschema (2.6.0)\r\njupyter-client (5.1.0)\r\njupyter-contrib-core (0.3.3)\r\njupyter-contrib-nbextensions (0.3.3)\r\njupyter-core (4.4.0)\r\njupyter-highlight-selected-word (0.1.0)\r\njupyter-latex-envs (1.4.1)\r\njupyter-nbextensions-configurator (0.2.8)\r\njupyterhub (0.8.1)\r\njupyterlab (0.29.1)\r\njupyterlab-launcher (0.5.5)\r\nlc-index (0.1)\r\nlc-multi-outputs (2.0.0)\r\nlc-nblineage (0.1.0.dev1)\r\nlc-run-through (0.1.0.dev2)\r\nlc-wrapper (0.1)\r\nlxml (4.1.1)\r\nMako (1.0.7)\r\nMarkupSafe (1.0)\r\nmistune (0.8)\r\nnbconvert (5.3.1)\r\nnbextension-i18n-cells (0.1)\r\nnbformat (4.4.0)\r\nnotebook (5.2.1)\r\npamela (0.3.0)\r\npandocfilters (1.4.1)\r\nparamiko (2.4.0)\r\npexpect (4.2.1)\r\npickleshare (0.7.4)\r\npip (9.0.1)\r\nprompt-toolkit (1.0.15)\r\nptyprocess (0.5.2)\r\npyasn1 (0.4.2)\r\npycosat (0.6.2)\r\npycparser (2.18)\r\nPygments (2.2.0)\r\nPyNaCl (1.2.1)\r\npyOpenSSL (17.2.0)\r\nPySocks (1.6.7)\r\npython-dateutil (2.6.1)\r\npython-editor (1.0.3)\r\npython-oauth2 (1.0.1)\r\nPyYAML (3.12)\r\npyzmq (16.0.2)\r\nrequests (2.18.4)\r\nruamel-yaml (0.11.14)\r\nsetuptools (36.6.0)\r\nsimplegeneric (0.8.1)\r\nsix (1.11.0)\r\nSQLAlchemy (1.1.13)\r\nterminado (0.6)\r\ntestpath (0.3.1)\r\ntornado (4.5.2)\r\ntraitlets (4.3.2)\r\nurllib3 (1.22)\r\nwcwidth (0.1.7)\r\nwebencodings (0.5)\r\nwheel (0.30.0)\r\nwidgetsnbextension (3.0.8)\r\n"
       }
      ]
     }
    ]
   },
   "outputs": [],
   "source": [
    "!pip list"
   ]
  },
  {
   "cell_type": "markdown",
   "metadata": {
    "lc_cell_meme": {
     "current": "d7eb5da0-f20d-11e7-90bd-0242ac130002",
     "next": "e13abde8-f126-11e7-94e3-02420aff0004",
     "previous": "e13abd3e-f126-11e7-94e3-02420aff0004"
    }
   },
   "source": [
    "# スライドP29「ライブラリの利用例」"
   ]
  },
  {
   "cell_type": "code",
   "execution_count": null,
   "metadata": {
    "lc_cell_meme": {
     "current": "e13abde8-f126-11e7-94e3-02420aff0004",
     "history": [
      {
       "current": "e13abde8-f126-11e7-94e3-02420aff0004",
       "next": null,
       "previous": "e13abd3e-f126-11e7-94e3-02420aff0004"
      },
      {
       "current": "e13abde8-f126-11e7-94e3-02420aff0004",
       "next": "28c2e50a-f127-11e7-94e3-02420aff0004",
       "previous": "e13abd3e-f126-11e7-94e3-02420aff0004"
      },
      {
       "current": "e13abde8-f126-11e7-94e3-02420aff0004",
       "next": "8e6278d4-f128-11e7-94e3-02420aff0004",
       "previous": "e13abd3e-f126-11e7-94e3-02420aff0004"
      },
      {
       "current": "e13abde8-f126-11e7-94e3-02420aff0004",
       "next": "8e6278d4-f128-11e7-94e3-02420aff0004",
       "previous": "d7eb5da0-f20d-11e7-90bd-0242ac130002"
      }
     ],
     "next": "1f71c042-f20e-11e7-90bd-0242ac130002",
     "previous": "d7eb5da0-f20d-11e7-90bd-0242ac130002"
    },
    "pinned_outputs": [
     {
      "execution_count": 20,
      "outputs": [
       {
        "name": "stdout",
        "output_type": "stream",
        "text": "2018-01-05 11:44:49.984755\n"
       }
      ]
     }
    ]
   },
   "outputs": [],
   "source": [
    "# datetime ライブラリのインポート\n",
    "import datetime\n",
    "\n",
    "# datetimeライブラリの、datetimeクラスのnow関数を実⾏。\n",
    "now = datetime.datetime.now()\n",
    "print(now)"
   ]
  },
  {
   "cell_type": "markdown",
   "metadata": {
    "lc_cell_meme": {
     "current": "1f71c042-f20e-11e7-90bd-0242ac130002",
     "next": "8e6278d4-f128-11e7-94e3-02420aff0004",
     "previous": "e13abde8-f126-11e7-94e3-02420aff0004"
    }
   },
   "source": [
    "# スライドP31「JSONの利用」\n",
    "\n",
    "まずはJson形式ファイルの確認から。"
   ]
  },
  {
   "cell_type": "code",
   "execution_count": null,
   "metadata": {
    "lc_cell_meme": {
     "current": "8e6278d4-f128-11e7-94e3-02420aff0004",
     "history": [
      {
       "current": "8e6278d4-f128-11e7-94e3-02420aff0004",
       "next": "28c2e50a-f127-11e7-94e3-02420aff0004",
       "previous": "e13abde8-f126-11e7-94e3-02420aff0004"
      },
      {
       "current": "8e6278d4-f128-11e7-94e3-02420aff0004",
       "next": "28c2e50a-f127-11e7-94e3-02420aff0004",
       "previous": "1f71c042-f20e-11e7-90bd-0242ac130002"
      }
     ],
     "next": "66fa6be4-f20e-11e7-90bd-0242ac130002",
     "previous": "1f71c042-f20e-11e7-90bd-0242ac130002"
    },
    "pinned_outputs": [
     {
      "execution_count": 21,
      "outputs": [
       {
        "name": "stdout",
        "output_type": "stream",
        "text": "[\r\n    {\r\n        \"router_name\": \"Router_A\",\r\n        \"ip\": \"192.168.0.1\",\r\n        \"os\": \"junos\"\r\n    },\r\n    {\r\n        \"router_name\": \"Router_B\",\r\n        \"ip\": \"192.168.0.2\",\r\n        \"os\": \"ios\"\r\n    },\r\n    {\r\n        \"router_name\": \"Router_C\",\r\n        \"ip\": \"192.168.0.3\",\r\n        \"os\": \"iosxr\"\r\n    }\r\n]"
       }
      ]
     }
    ]
   },
   "outputs": [],
   "source": [
    "!cat sample_json.json"
   ]
  },
  {
   "cell_type": "markdown",
   "metadata": {
    "lc_cell_meme": {
     "current": "66fa6be4-f20e-11e7-90bd-0242ac130002",
     "next": "28c2e50a-f127-11e7-94e3-02420aff0004",
     "previous": "8e6278d4-f128-11e7-94e3-02420aff0004"
    }
   },
   "source": [
    "Jsonファイルを読み込みます。"
   ]
  },
  {
   "cell_type": "code",
   "execution_count": null,
   "metadata": {
    "lc_cell_meme": {
     "current": "28c2e50a-f127-11e7-94e3-02420aff0004",
     "history": [
      {
       "current": "28c2e50a-f127-11e7-94e3-02420aff0004",
       "next": null,
       "previous": "e13abde8-f126-11e7-94e3-02420aff0004"
      },
      {
       "current": "28c2e50a-f127-11e7-94e3-02420aff0004",
       "next": "b851f1c0-f127-11e7-94e3-02420aff0004",
       "previous": "e13abde8-f126-11e7-94e3-02420aff0004"
      },
      {
       "current": "28c2e50a-f127-11e7-94e3-02420aff0004",
       "next": "b851f1c0-f127-11e7-94e3-02420aff0004",
       "previous": "8e6278d4-f128-11e7-94e3-02420aff0004"
      },
      {
       "current": "28c2e50a-f127-11e7-94e3-02420aff0004",
       "next": "d5e8d6c6-f128-11e7-94e3-02420aff0004",
       "previous": "8e6278d4-f128-11e7-94e3-02420aff0004"
      }
     ],
     "next": "66fa7120-f20e-11e7-90bd-0242ac130002",
     "previous": "66fa6be4-f20e-11e7-90bd-0242ac130002"
    },
    "pinned_outputs": [
     {
      "execution_count": 22,
      "outputs": [
       {
        "name": "stdout",
        "output_type": "stream",
        "text": "[{'router_name': 'Router_A', 'ip': '192.168.0.1', 'os': 'junos'}, {'router_name': 'Router_B', 'ip': '192.168.0.2', 'os': 'ios'}, {'router_name': 'Router_C', 'ip': '192.168.0.3', 'os': 'iosxr'}]\n"
       }
      ]
     }
    ]
   },
   "outputs": [],
   "source": [
    "import json\n",
    "\n",
    "file = open(\"sample_json.json\", \"r\")\n",
    "\n",
    "# jsonファイルを読み込み、Python変数に格納\n",
    "routers_list = json.load(file)\n",
    "\n",
    "print(routers_list)"
   ]
  },
  {
   "cell_type": "markdown",
   "metadata": {
    "lc_cell_meme": {
     "current": "66fa7120-f20e-11e7-90bd-0242ac130002",
     "next": "d5e8d6c6-f128-11e7-94e3-02420aff0004",
     "previous": "28c2e50a-f127-11e7-94e3-02420aff0004"
    }
   },
   "source": [
    "# スライドP33「テンプレートエンジンの利用」\n",
    "\n",
    "テンプレートファイルを確認します。"
   ]
  },
  {
   "cell_type": "code",
   "execution_count": null,
   "metadata": {
    "lc_cell_meme": {
     "current": "d5e8d6c6-f128-11e7-94e3-02420aff0004",
     "history": [
      {
       "current": "d5e8d6c6-f128-11e7-94e3-02420aff0004",
       "next": "b851f1c0-f127-11e7-94e3-02420aff0004",
       "previous": "28c2e50a-f127-11e7-94e3-02420aff0004"
      },
      {
       "current": "d5e8d6c6-f128-11e7-94e3-02420aff0004",
       "next": "b851f1c0-f127-11e7-94e3-02420aff0004",
       "previous": "66fa7120-f20e-11e7-90bd-0242ac130002"
      }
     ],
     "next": "ae7f0812-f20e-11e7-90bd-0242ac130002",
     "previous": "66fa7120-f20e-11e7-90bd-0242ac130002"
    },
    "pinned_outputs": [
     {
      "execution_count": 23,
      "outputs": [
       {
        "name": "stdout",
        "output_type": "stream",
        "text": "interface {{ if_name }}\r\n description {{ if_description }}\r\n ip address {{ ip4 }} {{ ip4_subnet }}\r\n duplex auto\r\n speed auto\r\n no shutdown\r\n!"
       }
      ]
     }
    ]
   },
   "outputs": [],
   "source": [
    "!cat sample_template.jinja2"
   ]
  },
  {
   "cell_type": "markdown",
   "metadata": {
    "lc_cell_meme": {
     "current": "ae7f0812-f20e-11e7-90bd-0242ac130002",
     "next": "b851f1c0-f127-11e7-94e3-02420aff0004",
     "previous": "d5e8d6c6-f128-11e7-94e3-02420aff0004"
    }
   },
   "source": [
    "テンプレートの利用。"
   ]
  },
  {
   "cell_type": "code",
   "execution_count": null,
   "metadata": {
    "lc_cell_meme": {
     "current": "b851f1c0-f127-11e7-94e3-02420aff0004",
     "history": [
      {
       "current": "b851f1c0-f127-11e7-94e3-02420aff0004",
       "next": null,
       "previous": "28c2e50a-f127-11e7-94e3-02420aff0004"
      },
      {
       "current": "b851f1c0-f127-11e7-94e3-02420aff0004",
       "next": "ff55be94-f127-11e7-94e3-02420aff0004",
       "previous": "28c2e50a-f127-11e7-94e3-02420aff0004"
      },
      {
       "current": "b851f1c0-f127-11e7-94e3-02420aff0004",
       "next": "ff55be94-f127-11e7-94e3-02420aff0004",
       "previous": "d5e8d6c6-f128-11e7-94e3-02420aff0004"
      }
     ],
     "next": "ae7f098e-f20e-11e7-90bd-0242ac130002",
     "previous": "ae7f0812-f20e-11e7-90bd-0242ac130002"
    },
    "pinned_outputs": [
     {
      "execution_count": 24,
      "outputs": [
       {
        "name": "stdout",
        "output_type": "stream",
        "text": "interface fastethernet 1/1\n description To_RouterA\n ip address 192.168.0.1 255.255.255.0\n duplex auto\n speed auto\n no shutdown\n!\n"
       }
      ]
     }
    ]
   },
   "outputs": [],
   "source": [
    "import jinja2\n",
    "\n",
    "# ファイルの読み込み\n",
    "file = open(\"sample_template.jinja2\", \"r\")\n",
    "template_txt = file.read()\n",
    "\n",
    "# テンプレートオブジェクトの作成\n",
    "template = jinja2.Environment().from_string(template_txt)\n",
    "\n",
    "# テンプレートに値を代⼊\n",
    "config_txt = template.render(\n",
    "    if_description=\"To_RouterA\",\n",
    "    if_name=\"fastethernet 1/1\",\n",
    "    ip4=\"192.168.0.1\",\n",
    "    ip4_subnet=\"255.255.255.0\"\n",
    ")\n",
    "\n",
    "print(config_txt)"
   ]
  },
  {
   "cell_type": "markdown",
   "metadata": {
    "lc_cell_meme": {
     "current": "ae7f098e-f20e-11e7-90bd-0242ac130002",
     "next": "ff55be94-f127-11e7-94e3-02420aff0004",
     "previous": "b851f1c0-f127-11e7-94e3-02420aff0004"
    }
   },
   "source": [
    "複数作成の例。"
   ]
  },
  {
   "cell_type": "code",
   "execution_count": null,
   "metadata": {
    "lc_cell_meme": {
     "current": "ff55be94-f127-11e7-94e3-02420aff0004",
     "history": [
      {
       "current": "ff55be94-f127-11e7-94e3-02420aff0004",
       "next": null,
       "previous": "b851f1c0-f127-11e7-94e3-02420aff0004"
      },
      {
       "current": "ff55be94-f127-11e7-94e3-02420aff0004",
       "next": "46de1388-f128-11e7-94e3-02420aff0004",
       "previous": "b851f1c0-f127-11e7-94e3-02420aff0004"
      },
      {
       "current": "ff55be94-f127-11e7-94e3-02420aff0004",
       "next": "46de1388-f128-11e7-94e3-02420aff0004",
       "previous": "ae7f098e-f20e-11e7-90bd-0242ac130002"
      }
     ],
     "next": "f6053382-f20e-11e7-90bd-0242ac130002",
     "previous": "ae7f098e-f20e-11e7-90bd-0242ac130002"
    },
    "pinned_outputs": [
     {
      "execution_count": 25,
      "outputs": [
       {
        "name": "stdout",
        "output_type": "stream",
        "text": "interface fastethernet 1/1\n description To_RouterA\n ip address 192.168.0.1 255.255.255.0\n duplex auto\n speed auto\n no shutdown\n!\ninterface fastethernet 1/2\n description To_RouterB\n ip address 192.168.1.1 255.255.255.0\n duplex auto\n speed auto\n no shutdown\n!\ninterface fastethernet 1/3\n description To_RouterC\n ip address 192.168.2.1 255.255.255.0\n duplex auto\n speed auto\n no shutdown\n!\n"
       }
      ]
     }
    ]
   },
   "outputs": [],
   "source": [
    "import jinja2\n",
    "\n",
    "# ファイルの読み込み\n",
    "file = open(\"sample_template.jinja2\", \"r\")\n",
    "template_txt = file.read()\n",
    "\n",
    "# テンプレートオブジェクトの作成\n",
    "template = jinja2.Environment().from_string(template_txt)\n",
    "\n",
    "# テンプレートに値を代⼊\n",
    "interfaces = [\n",
    "    {\n",
    "        \"if_description\" : \"To_RouterA\",\n",
    "        \"if_name\" : \"fastethernet 1/1\",\n",
    "        \"ip4\" : \"192.168.0.1\",\n",
    "        \"ip4_subnet\" : \"255.255.255.0\"\n",
    "    },\n",
    "    {\n",
    "        \"if_description\" : \"To_RouterB\",\n",
    "        \"if_name\" : \"fastethernet 1/2\",\n",
    "        \"ip4\" : \"192.168.1.1\",\n",
    "        \"ip4_subnet\" : \"255.255.255.0\"\n",
    "    },\n",
    "    {\n",
    "        \"if_description\" : \"To_RouterC\",\n",
    "        \"if_name\" : \"fastethernet 1/3\",\n",
    "        \"ip4\" : \"192.168.2.1\",\n",
    "        \"ip4_subnet\" : \"255.255.255.0\"\n",
    "    }\n",
    "]\n",
    "\n",
    "for interface in interfaces:\n",
    "    config_txt = template.render(interface)\n",
    "    print(config_txt)"
   ]
  },
  {
   "cell_type": "markdown",
   "metadata": {
    "lc_cell_meme": {
     "current": "f6053382-f20e-11e7-90bd-0242ac130002",
     "next": "46de1388-f128-11e7-94e3-02420aff0004",
     "previous": "ff55be94-f127-11e7-94e3-02420aff0004"
    }
   },
   "source": [
    "# スライドP36「正規表現の利用」"
   ]
  },
  {
   "cell_type": "code",
   "execution_count": null,
   "metadata": {
    "lc_cell_meme": {
     "current": "46de1388-f128-11e7-94e3-02420aff0004",
     "history": [
      {
       "current": "46de1388-f128-11e7-94e3-02420aff0004",
       "next": null,
       "previous": "ff55be94-f127-11e7-94e3-02420aff0004"
      },
      {
       "current": "46de1388-f128-11e7-94e3-02420aff0004",
       "next": "8e627a5a-f128-11e7-94e3-02420aff0004",
       "previous": "ff55be94-f127-11e7-94e3-02420aff0004"
      }
     ],
     "next": "f6053486-f20e-11e7-90bd-0242ac130002",
     "previous": "f6053382-f20e-11e7-90bd-0242ac130002"
    },
    "pinned_outputs": [
     {
      "execution_count": 26,
      "outputs": [
       {
        "name": "stdout",
        "output_type": "stream",
        "text": "JUNOS Software Release 12.1X47-D15.4\n12.1X47-D15.4\n"
       }
      ]
     }
    ]
   },
   "outputs": [],
   "source": [
    "import re\n",
    "\n",
    "# 複数⾏の⽂字列\n",
    "# show versionコマンド実⾏結果を想定\n",
    "show_version_txt = \"\"\"\n",
    "Hostname: vsrx\n",
    "Model: firefly-perimeter\n",
    "JUNOS Software Release 12.1X47-D15.4\n",
    "\"\"\"\n",
    "\n",
    "# 正規表現\n",
    "# 「()」: グループ化\n",
    "# 「.」 : 改⾏以外の任意の⽂字列1⽂字\n",
    "# 「+」 : 直前の正規表現に対して、１回以上の繰り返し\n",
    "regex = \"JUNOS Software Release (.+)\"\n",
    "\n",
    "# show_version_txtの⽂字列に対して、正規表現による⽂字列の抽出を実⾏\n",
    "match = re.search(regex, show_version_txt )\n",
    "\n",
    "# マッチした⽂字⽂字列全体を表⽰\n",
    "print(match.group(0)) # => 「JUNOS\tSoftware\tRelease\t12.1X47-D15.4」が表⽰\n",
    "\n",
    "# マッチした⽂字列のうちグループ化された部分を抽出\n",
    "print(match.group(1)) # => 「12.1X47-D15.4」が表⽰"
   ]
  },
  {
   "cell_type": "markdown",
   "metadata": {
    "lc_cell_meme": {
     "current": "f6053486-f20e-11e7-90bd-0242ac130002",
     "next": "8e627a5a-f128-11e7-94e3-02420aff0004",
     "previous": "46de1388-f128-11e7-94e3-02420aff0004"
    }
   },
   "source": [
    "# スライドP38「ユニットテストの利用」\n",
    "\n",
    "ここでは再びインタプリタ実行を行います。\n",
    "\n",
    "テスト対象の関数を確認します。"
   ]
  },
  {
   "cell_type": "code",
   "execution_count": null,
   "metadata": {
    "lc_cell_meme": {
     "current": "8e627a5a-f128-11e7-94e3-02420aff0004",
     "history": [
      {
       "current": "8e627a5a-f128-11e7-94e3-02420aff0004",
       "next": null,
       "previous": "46de1388-f128-11e7-94e3-02420aff0004"
      },
      {
       "current": "8e627a5a-f128-11e7-94e3-02420aff0004",
       "next": "f403c6ba-f129-11e7-94e3-02420aff0004",
       "previous": "46de1388-f128-11e7-94e3-02420aff0004"
      },
      {
       "current": "8e627a5a-f128-11e7-94e3-02420aff0004",
       "next": "f403c6ba-f129-11e7-94e3-02420aff0004",
       "previous": "f6053486-f20e-11e7-90bd-0242ac130002"
      }
     ],
     "next": "3d8c15cc-f20f-11e7-90bd-0242ac130002",
     "previous": "f6053486-f20e-11e7-90bd-0242ac130002"
    },
    "pinned_outputs": [
     {
      "execution_count": 27,
      "outputs": [
       {
        "name": "stdout",
        "output_type": "stream",
        "text": "def add(x, y):\r\n    sum = x + y\r\n    return sum\r\n"
       }
      ]
     }
    ]
   },
   "outputs": [],
   "source": [
    "!cat sample_unittest.py"
   ]
  },
  {
   "cell_type": "markdown",
   "metadata": {
    "lc_cell_meme": {
     "current": "3d8c15cc-f20f-11e7-90bd-0242ac130002",
     "next": "f403c6ba-f129-11e7-94e3-02420aff0004",
     "previous": "8e627a5a-f128-11e7-94e3-02420aff0004"
    }
   },
   "source": [
    "ユニットテストを確認します。"
   ]
  },
  {
   "cell_type": "code",
   "execution_count": null,
   "metadata": {
    "lc_cell_meme": {
     "current": "f403c6ba-f129-11e7-94e3-02420aff0004",
     "history": [
      {
       "current": "f403c6ba-f129-11e7-94e3-02420aff0004",
       "next": "f403c8fe-f129-11e7-94e3-02420aff0004",
       "previous": "8e627a5a-f128-11e7-94e3-02420aff0004"
      }
     ],
     "next": "3d8c170c-f20f-11e7-90bd-0242ac130002",
     "previous": "3d8c15cc-f20f-11e7-90bd-0242ac130002"
    },
    "pinned_outputs": [
     {
      "execution_count": 28,
      "outputs": [
       {
        "name": "stdout",
        "output_type": "stream",
        "text": "import unittest\r\nimport sample_unittest\r\n\r\nclass TestSample(unittest.TestCase):\r\n    def test_add(self):\r\n        actual = sample_unittest.add(1,2)\r\n        expected = 3\r\n        self.assertEqual(actual, expected)\r\n\r\nif __name__ == \"__main__\":\r\n    unittest.main()\r\n"
       }
      ]
     }
    ]
   },
   "outputs": [],
   "source": [
    "!cat tests/test_sample_unittest.py"
   ]
  },
  {
   "cell_type": "markdown",
   "metadata": {
    "lc_cell_meme": {
     "current": "3d8c170c-f20f-11e7-90bd-0242ac130002",
     "next": "f403c8fe-f129-11e7-94e3-02420aff0004",
     "previous": "f403c6ba-f129-11e7-94e3-02420aff0004"
    }
   },
   "source": [
    "ユニットテストを行います。"
   ]
  },
  {
   "cell_type": "code",
   "execution_count": null,
   "metadata": {
    "lc_cell_meme": {
     "current": "f403c8fe-f129-11e7-94e3-02420aff0004",
     "history": [
      {
       "current": "f403c8fe-f129-11e7-94e3-02420aff0004",
       "next": null,
       "previous": "f403c6ba-f129-11e7-94e3-02420aff0004"
      },
      {
       "current": "f403c8fe-f129-11e7-94e3-02420aff0004",
       "next": "3c0d63d0-f12a-11e7-94e3-02420aff0004",
       "previous": "f403c6ba-f129-11e7-94e3-02420aff0004"
      },
      {
       "current": "f403c8fe-f129-11e7-94e3-02420aff0004",
       "next": "3c0d63d0-f12a-11e7-94e3-02420aff0004",
       "previous": "3d8c170c-f20f-11e7-90bd-0242ac130002"
      }
     ],
     "next": "85163ec2-f20f-11e7-90bd-0242ac130002",
     "previous": "3d8c170c-f20f-11e7-90bd-0242ac130002"
    },
    "pinned_outputs": [
     {
      "execution_count": 29,
      "outputs": [
       {
        "name": "stdout",
        "output_type": "stream",
        "text": ".\r\n----------------------------------------------------------------------\r\nRan 1 test in 0.000s\r\n\r\nOK\r\n"
       }
      ]
     }
    ]
   },
   "outputs": [],
   "source": [
    "!python -m unittest tests.test_sample_unittest"
   ]
  },
  {
   "cell_type": "markdown",
   "metadata": {
    "lc_cell_meme": {
     "current": "85163ec2-f20f-11e7-90bd-0242ac130002",
     "next": "3c0d63d0-f12a-11e7-94e3-02420aff0004",
     "previous": "f403c8fe-f129-11e7-94e3-02420aff0004"
    }
   },
   "source": [
    "誤ったユニットテストを用意します。"
   ]
  },
  {
   "cell_type": "code",
   "execution_count": null,
   "metadata": {
    "lc_cell_meme": {
     "current": "3c0d63d0-f12a-11e7-94e3-02420aff0004",
     "history": [
      {
       "current": "3c0d63d0-f12a-11e7-94e3-02420aff0004",
       "next": "3c0d6556-f12a-11e7-94e3-02420aff0004",
       "previous": "f403c8fe-f129-11e7-94e3-02420aff0004"
      }
     ],
     "next": "85164264-f20f-11e7-90bd-0242ac130002",
     "previous": "85163ec2-f20f-11e7-90bd-0242ac130002"
    },
    "pinned_outputs": [
     {
      "execution_count": 30,
      "outputs": [
       {
        "name": "stdout",
        "output_type": "stream",
        "text": "import unittest\r\nimport sample_unittest\r\n\r\nclass TestSample(unittest.TestCase):\r\n    def test_add(self):\r\n        actual = sample_unittest.add(1,2)\r\n        expected = 4\r\n        self.assertEqual(actual, expected)\r\n\r\nif __name__ == \"__main__\":\r\n    unittest.main()\r\n"
       }
      ]
     }
    ]
   },
   "outputs": [],
   "source": [
    "!cat tests/test_sample_unittest2.py"
   ]
  },
  {
   "cell_type": "markdown",
   "metadata": {
    "lc_cell_meme": {
     "current": "85164264-f20f-11e7-90bd-0242ac130002",
     "next": "3c0d6556-f12a-11e7-94e3-02420aff0004",
     "previous": "3c0d63d0-f12a-11e7-94e3-02420aff0004"
    }
   },
   "source": [
    "ユニットテストを行います。"
   ]
  },
  {
   "cell_type": "code",
   "execution_count": null,
   "metadata": {
    "lc_cell_meme": {
     "current": "3c0d6556-f12a-11e7-94e3-02420aff0004",
     "history": [
      {
       "current": "3c0d6556-f12a-11e7-94e3-02420aff0004",
       "next": "3c0d660a-f12a-11e7-94e3-02420aff0004",
       "previous": "3c0d63d0-f12a-11e7-94e3-02420aff0004"
      }
     ],
     "next": "3c0d660a-f12a-11e7-94e3-02420aff0004",
     "previous": "85164264-f20f-11e7-90bd-0242ac130002"
    },
    "pinned_outputs": [
     {
      "execution_count": 31,
      "outputs": [
       {
        "name": "stdout",
        "output_type": "stream",
        "text": "F\r\n======================================================================\r\nFAIL: test_add (tests.test_sample_unittest2.TestSample)\r\n----------------------------------------------------------------------\r\nTraceback (most recent call last):\r\n  File \"/home/jovyan/janog41-auto-taiji/tests/test_sample_unittest2.py\", line 8, in test_add\r\n    self.assertEqual(actual, expected)\r\nAssertionError: 3 != 4\r\n\r\n----------------------------------------------------------------------\r\nRan 1 test in 0.000s\r\n\r\nFAILED (failures=1)\r\n"
       },
       {
        "ename": "RuntimeError",
        "evalue": "Unexpected exit code: 1",
        "output_type": "error",
        "traceback": [
         "\u001b[0;31m---------------------------------------------------------------------------\u001b[0m",
         "\u001b[0;31mRuntimeError\u001b[0m                              Traceback (most recent call last)",
         "\u001b[0;32m<ipython-input-62-e1a9d10b736c>\u001b[0m in \u001b[0;36m<module>\u001b[0;34m()\u001b[0m\n\u001b[0;32m----> 1\u001b[0;31m \u001b[0mget_ipython\u001b[0m\u001b[0;34m(\u001b[0m\u001b[0;34m)\u001b[0m\u001b[0;34m.\u001b[0m\u001b[0msystem\u001b[0m\u001b[0;34m(\u001b[0m\u001b[0;34m'python -m unittest tests.test_sample_unittest2'\u001b[0m\u001b[0;34m)\u001b[0m\u001b[0;34m\u001b[0m\u001b[0m\n\u001b[0m",
         "\u001b[0;32m~/.ipython/profile_default/startup/10-custom-get_ipython_system.py\u001b[0m in \u001b[0;36m<lambda>\u001b[0;34m(x)\u001b[0m\n\u001b[1;32m      5\u001b[0m \u001b[0;34m\u001b[0m\u001b[0m\n\u001b[1;32m      6\u001b[0m \u001b[0msave_get_ipython_system\u001b[0m \u001b[0;34m=\u001b[0m \u001b[0mget_ipython\u001b[0m\u001b[0;34m(\u001b[0m\u001b[0;34m)\u001b[0m\u001b[0;34m.\u001b[0m\u001b[0msystem\u001b[0m\u001b[0;34m\u001b[0m\u001b[0m\n\u001b[0;32m----> 7\u001b[0;31m \u001b[0mget_ipython\u001b[0m\u001b[0;34m(\u001b[0m\u001b[0;34m)\u001b[0m\u001b[0;34m.\u001b[0m\u001b[0msystem\u001b[0m \u001b[0;34m=\u001b[0m \u001b[0;32mlambda\u001b[0m \u001b[0mx\u001b[0m\u001b[0;34m:\u001b[0m \u001b[0mget_ipython_system\u001b[0m\u001b[0;34m(\u001b[0m\u001b[0mx\u001b[0m\u001b[0;34m)\u001b[0m\u001b[0;34m\u001b[0m\u001b[0m\n\u001b[0m\u001b[1;32m      8\u001b[0m \u001b[0;34m\u001b[0m\u001b[0m\n\u001b[1;32m      9\u001b[0m \u001b[0;31m# interactiveshell.py's system_piped() function comment saids:\u001b[0m\u001b[0;34m\u001b[0m\u001b[0;34m\u001b[0m\u001b[0m\n",
         "\u001b[0;32m~/.ipython/profile_default/startup/10-custom-get_ipython_system.py\u001b[0m in \u001b[0;36mget_ipython_system\u001b[0;34m(cmd)\u001b[0m\n\u001b[1;32m     13\u001b[0m     \u001b[0msave_get_ipython_system\u001b[0m\u001b[0;34m(\u001b[0m\u001b[0mcmd\u001b[0m\u001b[0;34m)\u001b[0m\u001b[0;34m\u001b[0m\u001b[0m\n\u001b[1;32m     14\u001b[0m     \u001b[0;32mif\u001b[0m \u001b[0mget_ipython\u001b[0m\u001b[0;34m(\u001b[0m\u001b[0;34m)\u001b[0m\u001b[0;34m.\u001b[0m\u001b[0muser_ns\u001b[0m\u001b[0;34m[\u001b[0m\u001b[0;34m'_exit_code'\u001b[0m\u001b[0;34m]\u001b[0m \u001b[0;34m!=\u001b[0m \u001b[0;36m0\u001b[0m\u001b[0;34m:\u001b[0m\u001b[0;34m\u001b[0m\u001b[0m\n\u001b[0;32m---> 15\u001b[0;31m         \u001b[0;32mraise\u001b[0m \u001b[0mRuntimeError\u001b[0m\u001b[0;34m(\u001b[0m\u001b[0;34m'Unexpected exit code: %d'\u001b[0m \u001b[0;34m%\u001b[0m \u001b[0mget_ipython\u001b[0m\u001b[0;34m(\u001b[0m\u001b[0;34m)\u001b[0m\u001b[0;34m.\u001b[0m\u001b[0muser_ns\u001b[0m\u001b[0;34m[\u001b[0m\u001b[0;34m'_exit_code'\u001b[0m\u001b[0;34m]\u001b[0m\u001b[0;34m)\u001b[0m\u001b[0;34m\u001b[0m\u001b[0m\n\u001b[0m",
         "\u001b[0;31mRuntimeError\u001b[0m: Unexpected exit code: 1"
        ]
       }
      ]
     }
    ]
   },
   "outputs": [],
   "source": [
    "!python -m unittest tests.test_sample_unittest2"
   ]
  },
  {
   "cell_type": "markdown",
   "metadata": {
    "lc_cell_meme": {
     "current": "3c0d660a-f12a-11e7-94e3-02420aff0004",
     "next": null,
     "previous": "3c0d6556-f12a-11e7-94e3-02420aff0004"
    }
   },
   "source": [
    "おしまい"
   ]
  }
 ],
 "metadata": {
  "kernelspec": {
   "display_name": "Python 3 (LC_wrapper)",
   "language": "python",
   "name": "python3-wrapper"
  },
  "language_info": {
   "file_extension": ".py",
   "mimetype": "text/x-python",
   "name": "python",
   "nbconvert_exporter": "python",
   "pygments_lexer": "ipython3",
   "version": "3.6.3"
  },
  "lc_notebook_meme": {
   "current": "85308de4-f120-11e7-94e3-02420aff0004",
   "lc_server_signature": {
    "current": {
     "notebook_dir": "/home/jovyan",
     "notebook_path": "/janog41-auto-taiji",
     "server_url": "http://localhost:8888/",
     "signature_id": "ef9687e2-f1f2-11e7-90bd-0242ac130002"
    },
    "history": [
     {
      "notebook_dir": "/home/jovyan",
      "notebook_path": "/",
      "server_url": "http://ip172-18-0-24-b96tcg262ceg00fkugt0-8888.direct.labs.play-with-docker.com/",
      "signature_id": "2960c9b6-f120-11e7-94e3-02420aff0004"
     }
    ]
   }
  },
  "toc": {
   "nav_menu": {},
   "number_sections": true,
   "sideBar": true,
   "skip_h1_title": false,
   "title_cell": "Table of Contents",
   "title_sidebar": "Contents",
   "toc_cell": false,
   "toc_position": {},
   "toc_section_display": true,
   "toc_window_display": true
  }
 },
 "nbformat": 4,
 "nbformat_minor": 2
}
