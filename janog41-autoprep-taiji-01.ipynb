{
 "cells": [
  {
   "cell_type": "markdown",
   "metadata": {
    "lc_cell_meme": {
     "current": "59a617ce-f12b-11e7-94e3-02420aff0004",
     "history": [
      {
       "current": "59a617ce-f12b-11e7-94e3-02420aff0004",
       "next": "853090dc-f120-11e7-94e3-02420aff0004",
       "previous": null
      }
     ],
     "next": "a12c80ce-f12b-11e7-94e3-02420aff0004",
     "previous": null
    }
   },
   "source": [
    "# 明日からはじめるネットワーク運用自動化　始動編\n",
    "\n",
    "（事前オンラインプログラム）\n",
    "\n",
    "以下、 https://www.janog.gr.jp/meeting/janog41/program/autoprep から転載"
   ]
  },
  {
   "cell_type": "markdown",
   "metadata": {
    "lc_cell_meme": {
     "current": "a12c80ce-f12b-11e7-94e3-02420aff0004",
     "history": [
      {
       "current": "a12c80ce-f12b-11e7-94e3-02420aff0004",
       "next": "853090dc-f120-11e7-94e3-02420aff0004",
       "previous": "59a617ce-f12b-11e7-94e3-02420aff0004"
      }
     ],
     "next": "06cce2ba-f12d-11e7-94e3-02420aff0004",
     "previous": "59a617ce-f12b-11e7-94e3-02420aff0004"
    }
   },
   "source": [
    "## 概要\n",
    "\n",
    "JANOG41にて「[明日からはじめるネットワーク運用自動化](https://www.janog.gr.jp/meeting/janog41/program/auto)」が発表されます。\n",
    "\n",
    "この本会議のプログラムでは、発表時間の都合上プログラミングの基本部分(具体的な書式や実装例など)については発表内容を省略させていただく予定でしたが、\n",
    "「プログラミング基本部分も含めて話を聞きたい」\n",
    "「(プログラミング未経験ながらも) 自動化業務に取り組めるようになりたい」といった意見をいただきまして、\n",
    "別途JANOG41とは異なる日程で、オンライン形式のプログラムを開催させて頂く形といたしました。\n",
    "\n",
    "業務時間帯での開催となってしまいますが、これから新たにネットワーク自動化開発のスキルセットを獲得したい方にとっては絶好の機会かと思いますので、ぜひご参加いただければと思います。\n",
    "\n",
    "### 発表内容\n",
    "* 本発表のねらい\n",
    "* ネットワーク運用自動化の例\n",
    "* ネットワーク運用自動化 失敗パターン\n",
    "* なぜPython?\n",
    "* Python 2系 vs 3系\n",
    "* print: 標準出力\n",
    "* 変数\n",
    " * 数値型\n",
    " * 文字列型\n",
    " * リスト型\n",
    " * 辞書型\n",
    "* if: 条件分岐処理\n",
    "* for: 繰り返し処理\n",
    "* 関数\n",
    "* クラス\n",
    "* ファイル入出力\n",
    "* テスト\n",
    "* ライブラリの利用\n",
    "* JSONの利用\n",
    "* テンプレートエンジンの利用\n",
    "* 正規表現の利用\n",
    "* 開発Tips\n",
    "* まとめ\n",
    "\n",
    "## 場所/日時\n",
    "\n",
    "開催場所：オンラインMeeting(WebEx)\n",
    "[こちらをクリックするとWebExが起動いたします](https://cisco.webex.com/ciscosales-jp/j.php?MTID=m6806d17c320cb3904c40bd6353e15f40)\n",
    "ミーティング番号 (アクセスコード): 208 879 804 \n",
    "ミーティングパスワード: ZaKHfNd3 (92543633 電話から参加の場合)  \n",
    "\n",
    "日時：2018年1月9日(火) 10:00～12:00\n",
    "\n",
    "## 発表者\n",
    "土屋 太二 (ITOCHU Techno-Solutions America, Inc. / NetOpsCoding運営委員)\n",
    "\n",
    "## 資料\n",
    "[明⽇からはじめる ネットワーク運⽤⾃動化 始動編 (土屋)](https://www.janog.gr.jp/meeting/janog41/application/files/8115/1496/7531/janog41-autoprep-taiji-01.pdf)"
   ]
  },
  {
   "cell_type": "markdown",
   "metadata": {
    "lc_cell_meme": {
     "current": "06cce2ba-f12d-11e7-94e3-02420aff0004",
     "next": "853090dc-f120-11e7-94e3-02420aff0004",
     "previous": "a12c80ce-f12b-11e7-94e3-02420aff0004"
    }
   },
   "source": [
    "# 本Notebookについて\n",
    "\n",
    "https://hub.docker.com/r/mnagaku/lc-minimal-notebook/"
   ]
  },
  {
   "cell_type": "code",
   "execution_count": null,
   "metadata": {
    "lc_cell_meme": {
     "current": "853090dc-f120-11e7-94e3-02420aff0004",
     "history": [
      {
       "current": "853090dc-f120-11e7-94e3-02420aff0004",
       "next": "85309258-f120-11e7-94e3-02420aff0004",
       "previous": null
      },
      {
       "current": "853090dc-f120-11e7-94e3-02420aff0004",
       "next": "85309258-f120-11e7-94e3-02420aff0004",
       "previous": "59a617ce-f12b-11e7-94e3-02420aff0004"
      },
      {
       "current": "853090dc-f120-11e7-94e3-02420aff0004",
       "next": "85309258-f120-11e7-94e3-02420aff0004",
       "previous": "a12c80ce-f12b-11e7-94e3-02420aff0004"
      }
     ],
     "next": "85309258-f120-11e7-94e3-02420aff0004",
     "previous": "06cce2ba-f12d-11e7-94e3-02420aff0004"
    }
   },
   "outputs": [],
   "source": [
    "!python --version"
   ]
  },
  {
   "cell_type": "code",
   "execution_count": null,
   "metadata": {
    "lc_cell_meme": {
     "current": "85309258-f120-11e7-94e3-02420aff0004",
     "history": [
      {
       "current": "85309258-f120-11e7-94e3-02420aff0004",
       "next": "853093b6-f120-11e7-94e3-02420aff0004",
       "previous": "853090dc-f120-11e7-94e3-02420aff0004"
      }
     ],
     "next": "1d7039b2-f129-11e7-94e3-02420aff0004",
     "previous": "853090dc-f120-11e7-94e3-02420aff0004"
    }
   },
   "outputs": [],
   "source": [
    "!cat sample.py"
   ]
  },
  {
   "cell_type": "code",
   "execution_count": null,
   "metadata": {
    "lc_cell_meme": {
     "current": "1d7039b2-f129-11e7-94e3-02420aff0004",
     "next": "853093b6-f120-11e7-94e3-02420aff0004",
     "previous": "85309258-f120-11e7-94e3-02420aff0004"
    }
   },
   "outputs": [],
   "source": [
    "!python sample.py"
   ]
  },
  {
   "cell_type": "code",
   "execution_count": null,
   "metadata": {
    "lc_cell_meme": {
     "current": "853093b6-f120-11e7-94e3-02420aff0004",
     "history": [
      {
       "current": "853093b6-f120-11e7-94e3-02420aff0004",
       "next": null,
       "previous": "85309258-f120-11e7-94e3-02420aff0004"
      },
      {
       "current": "853093b6-f120-11e7-94e3-02420aff0004",
       "next": "ccb73136-f120-11e7-94e3-02420aff0004",
       "previous": "85309258-f120-11e7-94e3-02420aff0004"
      }
     ],
     "next": "ccb73136-f120-11e7-94e3-02420aff0004",
     "previous": "1d7039b2-f129-11e7-94e3-02420aff0004"
    }
   },
   "outputs": [],
   "source": [
    "print(\"Hello World!\")"
   ]
  },
  {
   "cell_type": "code",
   "execution_count": null,
   "metadata": {
    "lc_cell_meme": {
     "current": "ccb73136-f120-11e7-94e3-02420aff0004",
     "next": "ccb732b2-f120-11e7-94e3-02420aff0004",
     "previous": "853093b6-f120-11e7-94e3-02420aff0004"
    }
   },
   "outputs": [],
   "source": [
    "a = 1 # a: int型として⽣成\n",
    "b = 1.1 # b: float型として⽣成\n",
    "print(a)\n",
    "print(b)\n",
    "c = a + b # c: float型として⽣成\n",
    "print(c)"
   ]
  },
  {
   "cell_type": "code",
   "execution_count": null,
   "metadata": {
    "lc_cell_meme": {
     "current": "ccb732b2-f120-11e7-94e3-02420aff0004",
     "next": "ccb73366-f120-11e7-94e3-02420aff0004",
     "previous": "ccb73136-f120-11e7-94e3-02420aff0004"
    }
   },
   "outputs": [],
   "source": [
    "c = \"text\" # 「‘」「“」のどちらでも可。特別な違いはなし。\n",
    "d = \"テキスト\"\n",
    "#⽇本語⽂字列について\n",
    "#Python3ではデフォルトでUnicode⽂字列として扱われる。\n",
    "#Python2ではデフォルトはASCIIであるため「u\"テキスト\"」と明⽰する必要あり。\n",
    "print(c)\n",
    "print(d)"
   ]
  },
  {
   "cell_type": "code",
   "execution_count": null,
   "metadata": {
    "lc_cell_meme": {
     "current": "ccb73366-f120-11e7-94e3-02420aff0004",
     "next": "ccb733fc-f120-11e7-94e3-02420aff0004",
     "previous": "ccb732b2-f120-11e7-94e3-02420aff0004"
    }
   },
   "outputs": [],
   "source": [
    "router_list = [\"router_A\", \"router_B\", \"router_C\"]\n",
    "# リスト型変数を出⼒\n",
    "print(router_list)\n",
    "# 0から数えて、1番⽬の値を出⼒\n",
    "print(router_list[1])\n",
    "# 配列の⻑さを取得(len)\n",
    "print(len(router_list))"
   ]
  },
  {
   "cell_type": "code",
   "execution_count": null,
   "metadata": {
    "lc_cell_meme": {
     "current": "ccb733fc-f120-11e7-94e3-02420aff0004",
     "history": [
      {
       "current": "ccb733fc-f120-11e7-94e3-02420aff0004",
       "next": null,
       "previous": "ccb73366-f120-11e7-94e3-02420aff0004"
      }
     ],
     "next": "14627d74-f121-11e7-94e3-02420aff0004",
     "previous": "ccb73366-f120-11e7-94e3-02420aff0004"
    }
   },
   "outputs": [],
   "source": [
    "# 「key : value」のペアを変数として定義\n",
    "routerA_info = {\n",
    "\"hostname\" : \"router_A\",\n",
    "\"os\" : \"junos\"\n",
    "}\n",
    "print(routerA_info) # 辞書型変数を表示\n",
    "# 「key = “hostname”」の場合の、「value」を表示\n",
    "print(routerA_info[\"hostname\"]) "
   ]
  },
  {
   "cell_type": "code",
   "execution_count": null,
   "metadata": {
    "lc_cell_meme": {
     "current": "14627d74-f121-11e7-94e3-02420aff0004",
     "history": [
      {
       "current": "14627d74-f121-11e7-94e3-02420aff0004",
       "next": null,
       "previous": "ccb733fc-f120-11e7-94e3-02420aff0004"
      }
     ],
     "next": "eae90066-f121-11e7-94e3-02420aff0004",
     "previous": "ccb733fc-f120-11e7-94e3-02420aff0004"
    }
   },
   "outputs": [],
   "source": [
    "num = 2\n",
    "if num == 1:\n",
    "    print(\"num is one\")\n",
    "elif num == 2:\n",
    "    print(\"num is two\")\n",
    "else:\n",
    "    print(\"num is the others\")"
   ]
  },
  {
   "cell_type": "code",
   "execution_count": null,
   "metadata": {
    "lc_cell_meme": {
     "current": "eae90066-f121-11e7-94e3-02420aff0004",
     "next": "eae902a0-f121-11e7-94e3-02420aff0004",
     "previous": "14627d74-f121-11e7-94e3-02420aff0004"
    }
   },
   "outputs": [],
   "source": [
    "# リスト型変数を利⽤して繰り返し処理を実施\n",
    "router_list = [\"router_A\", \"router_B\"]\n",
    "# router_listの値を、順次 router_name に代入\n",
    "for router_name in router_list:\n",
    "    print(router_name)"
   ]
  },
  {
   "cell_type": "code",
   "execution_count": null,
   "metadata": {
    "lc_cell_meme": {
     "current": "eae902a0-f121-11e7-94e3-02420aff0004",
     "next": "eae903cc-f121-11e7-94e3-02420aff0004",
     "previous": "eae90066-f121-11e7-94e3-02420aff0004"
    }
   },
   "outputs": [],
   "source": [
    "# 回数を指定して繰り返し処理を実施\n",
    "# range(3) = 0,1,2が格納\n",
    "for num in range(3):\n",
    "    print(num)"
   ]
  },
  {
   "cell_type": "code",
   "execution_count": null,
   "metadata": {
    "lc_cell_meme": {
     "current": "eae903cc-f121-11e7-94e3-02420aff0004",
     "history": [
      {
       "current": "eae903cc-f121-11e7-94e3-02420aff0004",
       "next": null,
       "previous": "eae902a0-f121-11e7-94e3-02420aff0004"
      }
     ],
     "next": "522d0714-f126-11e7-94e3-02420aff0004",
     "previous": "eae902a0-f121-11e7-94e3-02420aff0004"
    }
   },
   "outputs": [],
   "source": [
    "# 読み込みモード:\"r\"\n",
    "file1 = open(\"sample_read.txt\", \"r\")\n",
    "text = file1.read() # ファイル全⽂を⽂字列として読み込み\n",
    "#text = file1.readline() # ファイル1⾏⽬のみを⽂字列として読み込み\n",
    "#text = file1.readlines() # ファイルを⾏ごとに配列として読み込み\n",
    "print(text)\n",
    "file1.close()"
   ]
  },
  {
   "cell_type": "code",
   "execution_count": null,
   "metadata": {
    "lc_cell_meme": {
     "current": "522d0714-f126-11e7-94e3-02420aff0004",
     "next": "522d08b8-f126-11e7-94e3-02420aff0004",
     "previous": "eae903cc-f121-11e7-94e3-02420aff0004"
    }
   },
   "outputs": [],
   "source": [
    "# 上書き書き込みモード:\"w\", 追記書き込みモード:\"a\"\n",
    "file2 = open(\"sample_write.txt\", \"w\")\n",
    "file2.write(\"Good!\")\n",
    "file2.close()"
   ]
  },
  {
   "cell_type": "code",
   "execution_count": null,
   "metadata": {
    "lc_cell_meme": {
     "current": "522d08b8-f126-11e7-94e3-02420aff0004",
     "next": "522d09b2-f126-11e7-94e3-02420aff0004",
     "previous": "522d0714-f126-11e7-94e3-02420aff0004"
    }
   },
   "outputs": [],
   "source": [
    "!cat sample_write.txt"
   ]
  },
  {
   "cell_type": "code",
   "execution_count": null,
   "metadata": {
    "lc_cell_meme": {
     "current": "522d09b2-f126-11e7-94e3-02420aff0004",
     "history": [
      {
       "current": "522d09b2-f126-11e7-94e3-02420aff0004",
       "next": null,
       "previous": "522d08b8-f126-11e7-94e3-02420aff0004"
      }
     ],
     "next": "99b3ed82-f126-11e7-94e3-02420aff0004",
     "previous": "522d08b8-f126-11e7-94e3-02420aff0004"
    }
   },
   "outputs": [],
   "source": [
    "# 関数の定義\n",
    "# ルータ名のリストを受けとり、表⽰させる関数\n",
    "def test_function(router_list):\n",
    "    for router_name in router_list:\n",
    "        print(router_name)\n",
    "# リスト型変数を定義\n",
    "router_list = [\"router_A\", \"router_B\"]\n",
    "# 関数の呼び出し\n",
    "test_function(router_list)"
   ]
  },
  {
   "cell_type": "code",
   "execution_count": null,
   "metadata": {
    "lc_cell_meme": {
     "current": "99b3ed82-f126-11e7-94e3-02420aff0004",
     "history": [
      {
       "current": "99b3ed82-f126-11e7-94e3-02420aff0004",
       "next": null,
       "previous": "522d09b2-f126-11e7-94e3-02420aff0004"
      }
     ],
     "next": "e13ab85c-f126-11e7-94e3-02420aff0004",
     "previous": "522d09b2-f126-11e7-94e3-02420aff0004"
    }
   },
   "outputs": [],
   "source": [
    "class Router:\n",
    "    # クラス変数(全インスタンス共通で設定される変数)\n",
    "    router = {\n",
    "        \"router_name\" : \"\",\n",
    "        \"ip\" : \"\",\n",
    "        \"os\" : \"\"\n",
    "    }\n",
    "\n",
    "    # クラス内の関数の定義。ルータ名の設定\n",
    "    def set_router_name(self, router_name):\n",
    "        self.router[\"router_name\"] = router_name\n",
    "\n",
    "    # クラス内の関数の定義。ルータ名の取得\n",
    "    def get_router_name(self):\n",
    "        return self.router[\"router_name\"]\n",
    "\n",
    "# Routerクラスのインスタンスを⽣成\n",
    "router_A = Router()\n",
    "# Routerクラスで定義された関数を呼び出し\n",
    "router_A.set_router_name(\"Router A\")\n",
    "router_name = router_A.get_router_name()\n",
    "\n",
    "print(router_name) # => 「Router A」が表⽰"
   ]
  },
  {
   "cell_type": "code",
   "execution_count": null,
   "metadata": {
    "lc_cell_meme": {
     "current": "e13ab85c-f126-11e7-94e3-02420aff0004",
     "next": "e13abb7c-f126-11e7-94e3-02420aff0004",
     "previous": "99b3ed82-f126-11e7-94e3-02420aff0004"
    }
   },
   "outputs": [],
   "source": [
    "!pip --version"
   ]
  },
  {
   "cell_type": "code",
   "execution_count": null,
   "metadata": {
    "lc_cell_meme": {
     "current": "e13abb7c-f126-11e7-94e3-02420aff0004",
     "next": "e13abd3e-f126-11e7-94e3-02420aff0004",
     "previous": "e13ab85c-f126-11e7-94e3-02420aff0004"
    }
   },
   "outputs": [],
   "source": [
    "!pip install jinja2"
   ]
  },
  {
   "cell_type": "code",
   "execution_count": null,
   "metadata": {
    "lc_cell_meme": {
     "current": "e13abd3e-f126-11e7-94e3-02420aff0004",
     "next": "e13abde8-f126-11e7-94e3-02420aff0004",
     "previous": "e13abb7c-f126-11e7-94e3-02420aff0004"
    }
   },
   "outputs": [],
   "source": [
    "!pip list"
   ]
  },
  {
   "cell_type": "code",
   "execution_count": null,
   "metadata": {
    "lc_cell_meme": {
     "current": "e13abde8-f126-11e7-94e3-02420aff0004",
     "history": [
      {
       "current": "e13abde8-f126-11e7-94e3-02420aff0004",
       "next": null,
       "previous": "e13abd3e-f126-11e7-94e3-02420aff0004"
      },
      {
       "current": "e13abde8-f126-11e7-94e3-02420aff0004",
       "next": "28c2e50a-f127-11e7-94e3-02420aff0004",
       "previous": "e13abd3e-f126-11e7-94e3-02420aff0004"
      }
     ],
     "next": "8e6278d4-f128-11e7-94e3-02420aff0004",
     "previous": "e13abd3e-f126-11e7-94e3-02420aff0004"
    }
   },
   "outputs": [],
   "source": [
    "# datetime ライブラリのインポート\n",
    "import datetime\n",
    "# datetimeライブラリの、datetimeクラスのnow関数を実⾏。\n",
    "now = datetime.datetime.now()\n",
    "print(now)"
   ]
  },
  {
   "cell_type": "code",
   "execution_count": null,
   "metadata": {
    "lc_cell_meme": {
     "current": "8e6278d4-f128-11e7-94e3-02420aff0004",
     "next": "28c2e50a-f127-11e7-94e3-02420aff0004",
     "previous": "e13abde8-f126-11e7-94e3-02420aff0004"
    }
   },
   "outputs": [],
   "source": [
    "!cat sample_json.json"
   ]
  },
  {
   "cell_type": "code",
   "execution_count": null,
   "metadata": {
    "lc_cell_meme": {
     "current": "28c2e50a-f127-11e7-94e3-02420aff0004",
     "history": [
      {
       "current": "28c2e50a-f127-11e7-94e3-02420aff0004",
       "next": null,
       "previous": "e13abde8-f126-11e7-94e3-02420aff0004"
      },
      {
       "current": "28c2e50a-f127-11e7-94e3-02420aff0004",
       "next": "b851f1c0-f127-11e7-94e3-02420aff0004",
       "previous": "e13abde8-f126-11e7-94e3-02420aff0004"
      },
      {
       "current": "28c2e50a-f127-11e7-94e3-02420aff0004",
       "next": "b851f1c0-f127-11e7-94e3-02420aff0004",
       "previous": "8e6278d4-f128-11e7-94e3-02420aff0004"
      }
     ],
     "next": "d5e8d6c6-f128-11e7-94e3-02420aff0004",
     "previous": "8e6278d4-f128-11e7-94e3-02420aff0004"
    }
   },
   "outputs": [],
   "source": [
    "import json\n",
    "file = open(\"sample_json.json\", \"r\")\n",
    "# jsonファイルを読み込み、Python変数に格納\n",
    "routers_list = json.load(file)\n",
    "print(routers_list)"
   ]
  },
  {
   "cell_type": "code",
   "execution_count": null,
   "metadata": {
    "lc_cell_meme": {
     "current": "d5e8d6c6-f128-11e7-94e3-02420aff0004",
     "next": "b851f1c0-f127-11e7-94e3-02420aff0004",
     "previous": "28c2e50a-f127-11e7-94e3-02420aff0004"
    }
   },
   "outputs": [],
   "source": [
    "!cat sample_template.jinja2"
   ]
  },
  {
   "cell_type": "code",
   "execution_count": null,
   "metadata": {
    "lc_cell_meme": {
     "current": "b851f1c0-f127-11e7-94e3-02420aff0004",
     "history": [
      {
       "current": "b851f1c0-f127-11e7-94e3-02420aff0004",
       "next": null,
       "previous": "28c2e50a-f127-11e7-94e3-02420aff0004"
      },
      {
       "current": "b851f1c0-f127-11e7-94e3-02420aff0004",
       "next": "ff55be94-f127-11e7-94e3-02420aff0004",
       "previous": "28c2e50a-f127-11e7-94e3-02420aff0004"
      }
     ],
     "next": "ff55be94-f127-11e7-94e3-02420aff0004",
     "previous": "d5e8d6c6-f128-11e7-94e3-02420aff0004"
    }
   },
   "outputs": [],
   "source": [
    "import jinja2\n",
    "# ファイルの読み込み\n",
    "file = open(\"sample_template.jinja2\", \"r\")\n",
    "template_txt = file.read()\n",
    "# テンプレートオブジェクトの作成\n",
    "template = jinja2.Environment().from_string(template_txt)\n",
    "# テンプレートに値を代⼊\n",
    "config_txt = template.render(\n",
    "    if_description=\"To_RouterA\",\n",
    "    if_name=\"fastethernet 1/1\",\n",
    "    ip4=\"192.168.0.1\",\n",
    "    ip4_subnet=\"255.255.255.0\"\n",
    ")\n",
    "print(config_txt)"
   ]
  },
  {
   "cell_type": "code",
   "execution_count": null,
   "metadata": {
    "lc_cell_meme": {
     "current": "ff55be94-f127-11e7-94e3-02420aff0004",
     "history": [
      {
       "current": "ff55be94-f127-11e7-94e3-02420aff0004",
       "next": null,
       "previous": "b851f1c0-f127-11e7-94e3-02420aff0004"
      }
     ],
     "next": "46de1388-f128-11e7-94e3-02420aff0004",
     "previous": "b851f1c0-f127-11e7-94e3-02420aff0004"
    }
   },
   "outputs": [],
   "source": [
    "import jinja2\n",
    "# ファイルの読み込み\n",
    "file = open(\"sample_template.jinja2\", \"r\")\n",
    "template_txt = file.read()\n",
    "# テンプレートオブジェクトの作成\n",
    "template = jinja2.Environment().from_string(template_txt)\n",
    "# テンプレートに値を代⼊\n",
    "interfaces = [\n",
    "    {\n",
    "        \"if_description\" : \"To_RouterA\",\n",
    "        \"if_name\" : \"fastethernet 1/1\",\n",
    "        \"ip4\" : \"192.168.0.1\",\n",
    "        \"ip4_subnet\" : \"255.255.255.0\"\n",
    "    },\n",
    "    {\n",
    "        \"if_description\" : \"To_RouterB\",\n",
    "        \"if_name\" : \"fastethernet 1/2\",\n",
    "        \"ip4\" : \"192.168.1.1\",\n",
    "        \"ip4_subnet\" : \"255.255.255.0\"\n",
    "    },\n",
    "    {\n",
    "        \"if_description\" : \"To_RouterC\",\n",
    "        \"if_name\" : \"fastethernet 1/3\",\n",
    "        \"ip4\" : \"192.168.2.1\",\n",
    "        \"ip4_subnet\" : \"255.255.255.0\"\n",
    "    }\n",
    "]\n",
    "for interface in interfaces:\n",
    "    config_txt = template.render(interface)\n",
    "    print(config_txt)"
   ]
  },
  {
   "cell_type": "code",
   "execution_count": null,
   "metadata": {
    "lc_cell_meme": {
     "current": "46de1388-f128-11e7-94e3-02420aff0004",
     "history": [
      {
       "current": "46de1388-f128-11e7-94e3-02420aff0004",
       "next": null,
       "previous": "ff55be94-f127-11e7-94e3-02420aff0004"
      }
     ],
     "next": "8e627a5a-f128-11e7-94e3-02420aff0004",
     "previous": "ff55be94-f127-11e7-94e3-02420aff0004"
    }
   },
   "outputs": [],
   "source": [
    "import re\n",
    "# 複数⾏の⽂字列\n",
    "# show versionコマンド実⾏結果を想定\n",
    "show_version_txt = \"\"\"\n",
    "Hostname: vsrx\n",
    "Model: firefly-perimeter\n",
    "JUNOS Software Release 12.1X47-D15.4\n",
    "\"\"\"\n",
    "# 正規表現\n",
    "# 「()」: グループ化\n",
    "# 「.」 : 改⾏以外の任意の⽂字列1⽂字\n",
    "# 「+」 : 直前の正規表現に対して、１回以上の繰り返し\n",
    "regex = \"JUNOS Software Release (.+)\"\n",
    "# show_version_txtの⽂字列に対して、正規表現による⽂字列の抽出を実⾏\n",
    "match = re.search(regex, show_version_txt )\n",
    "# マッチした⽂字⽂字列全体を表⽰\n",
    "print(match.group(0)) # => 「JUNOS\tSoftware\tRelease\t12.1X47-D15.4」が表⽰\n",
    "# マッチした⽂字列のうちグループ化された部分を抽出\n",
    "print(match.group(1)) # => 「12.1X47-D15.4」が表⽰"
   ]
  },
  {
   "cell_type": "code",
   "execution_count": null,
   "metadata": {
    "lc_cell_meme": {
     "current": "8e627a5a-f128-11e7-94e3-02420aff0004",
     "history": [
      {
       "current": "8e627a5a-f128-11e7-94e3-02420aff0004",
       "next": null,
       "previous": "46de1388-f128-11e7-94e3-02420aff0004"
      }
     ],
     "next": "f403c6ba-f129-11e7-94e3-02420aff0004",
     "previous": "46de1388-f128-11e7-94e3-02420aff0004"
    }
   },
   "outputs": [],
   "source": [
    "!cat sample_unittest.py"
   ]
  },
  {
   "cell_type": "code",
   "execution_count": null,
   "metadata": {
    "lc_cell_meme": {
     "current": "f403c6ba-f129-11e7-94e3-02420aff0004",
     "next": "f403c8fe-f129-11e7-94e3-02420aff0004",
     "previous": "8e627a5a-f128-11e7-94e3-02420aff0004"
    }
   },
   "outputs": [],
   "source": [
    "!cat tests/test_sample_unittest.py"
   ]
  },
  {
   "cell_type": "code",
   "execution_count": null,
   "metadata": {
    "lc_cell_meme": {
     "current": "f403c8fe-f129-11e7-94e3-02420aff0004",
     "history": [
      {
       "current": "f403c8fe-f129-11e7-94e3-02420aff0004",
       "next": null,
       "previous": "f403c6ba-f129-11e7-94e3-02420aff0004"
      }
     ],
     "next": "3c0d63d0-f12a-11e7-94e3-02420aff0004",
     "previous": "f403c6ba-f129-11e7-94e3-02420aff0004"
    }
   },
   "outputs": [],
   "source": [
    "!python -m unittest tests.test_sample_unittest"
   ]
  },
  {
   "cell_type": "code",
   "execution_count": null,
   "metadata": {
    "lc_cell_meme": {
     "current": "3c0d63d0-f12a-11e7-94e3-02420aff0004",
     "next": "3c0d6556-f12a-11e7-94e3-02420aff0004",
     "previous": "f403c8fe-f129-11e7-94e3-02420aff0004"
    }
   },
   "outputs": [],
   "source": [
    "!cat tests/test_sample_unittest2.py"
   ]
  },
  {
   "cell_type": "code",
   "execution_count": null,
   "metadata": {
    "lc_cell_meme": {
     "current": "3c0d6556-f12a-11e7-94e3-02420aff0004",
     "next": "3c0d660a-f12a-11e7-94e3-02420aff0004",
     "previous": "3c0d63d0-f12a-11e7-94e3-02420aff0004"
    }
   },
   "outputs": [],
   "source": [
    "!python -m unittest tests.test_sample_unittest2"
   ]
  },
  {
   "cell_type": "code",
   "execution_count": null,
   "metadata": {
    "lc_cell_meme": {
     "current": "3c0d660a-f12a-11e7-94e3-02420aff0004",
     "next": null,
     "previous": "3c0d6556-f12a-11e7-94e3-02420aff0004"
    }
   },
   "outputs": [],
   "source": []
  }
 ],
 "metadata": {
  "kernelspec": {
   "display_name": "Python 3 (LC_wrapper)",
   "language": "python",
   "name": "python3-wrapper"
  },
  "language_info": {
   "file_extension": ".py",
   "mimetype": "text/x-python",
   "name": "python",
   "nbconvert_exporter": "python",
   "pygments_lexer": "ipython3",
   "version": "3.6.3"
  },
  "lc_notebook_meme": {
   "current": "85308de4-f120-11e7-94e3-02420aff0004",
   "lc_server_signature": {
    "current": {
     "notebook_dir": "/home/jovyan",
     "notebook_path": "/",
     "server_url": "http://ip172-18-0-24-b96tcg262ceg00fkugt0-8888.direct.labs.play-with-docker.com/",
     "signature_id": "2960c9b6-f120-11e7-94e3-02420aff0004"
    },
    "history": []
   }
  },
  "toc": {
   "nav_menu": {},
   "number_sections": true,
   "sideBar": true,
   "skip_h1_title": false,
   "title_cell": "Table of Contents",
   "title_sidebar": "Contents",
   "toc_cell": false,
   "toc_position": {},
   "toc_section_display": true,
   "toc_window_display": false
  }
 },
 "nbformat": 4,
 "nbformat_minor": 2
}
